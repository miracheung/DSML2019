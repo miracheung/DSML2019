{
 "cells": [
  {
   "cell_type": "code",
   "execution_count": 1,
   "metadata": {},
   "outputs": [],
   "source": [
    "import pandas as pd\n",
    "import numpy as np\n",
    "import matplotlib.pyplot as plt\n",
    "import turicreate"
   ]
  },
  {
   "cell_type": "markdown",
   "metadata": {},
   "source": [
    "# Load data"
   ]
  },
  {
   "cell_type": "code",
   "execution_count": 2,
   "metadata": {},
   "outputs": [
    {
     "data": {
      "text/html": [
       "<div>\n",
       "<style scoped>\n",
       "    .dataframe tbody tr th:only-of-type {\n",
       "        vertical-align: middle;\n",
       "    }\n",
       "\n",
       "    .dataframe tbody tr th {\n",
       "        vertical-align: top;\n",
       "    }\n",
       "\n",
       "    .dataframe thead th {\n",
       "        text-align: right;\n",
       "    }\n",
       "</style>\n",
       "<table border=\"1\" class=\"dataframe\">\n",
       "  <thead>\n",
       "    <tr style=\"text-align: right;\">\n",
       "      <th></th>\n",
       "      <th>user_id</th>\n",
       "      <th>isbn</th>\n",
       "      <th>rating</th>\n",
       "    </tr>\n",
       "  </thead>\n",
       "  <tbody>\n",
       "    <tr>\n",
       "      <th>0</th>\n",
       "      <td>276725</td>\n",
       "      <td>034545104X</td>\n",
       "      <td>0</td>\n",
       "    </tr>\n",
       "    <tr>\n",
       "      <th>1</th>\n",
       "      <td>276726</td>\n",
       "      <td>155061224</td>\n",
       "      <td>5</td>\n",
       "    </tr>\n",
       "    <tr>\n",
       "      <th>2</th>\n",
       "      <td>276727</td>\n",
       "      <td>446520802</td>\n",
       "      <td>0</td>\n",
       "    </tr>\n",
       "    <tr>\n",
       "      <th>3</th>\n",
       "      <td>276729</td>\n",
       "      <td>052165615X</td>\n",
       "      <td>3</td>\n",
       "    </tr>\n",
       "    <tr>\n",
       "      <th>4</th>\n",
       "      <td>276729</td>\n",
       "      <td>521795028</td>\n",
       "      <td>6</td>\n",
       "    </tr>\n",
       "  </tbody>\n",
       "</table>\n",
       "</div>"
      ],
      "text/plain": [
       "   user_id        isbn  rating\n",
       "0   276725  034545104X       0\n",
       "1   276726   155061224       5\n",
       "2   276727   446520802       0\n",
       "3   276729  052165615X       3\n",
       "4   276729   521795028       6"
      ]
     },
     "execution_count": 2,
     "metadata": {},
     "output_type": "execute_result"
    }
   ],
   "source": [
    "df_rating = pd.read_csv('BX-Book-Ratings.csv', encoding='cp1252') #ISO-8859-1 or cp1252\n",
    "df_rating.head()"
   ]
  },
  {
   "cell_type": "code",
   "execution_count": 3,
   "metadata": {},
   "outputs": [
    {
     "name": "stderr",
     "output_type": "stream",
     "text": [
      "/home/zhenxuan/my_project_dir/my_project_env/lib/python3.6/site-packages/IPython/core/interactiveshell.py:3049: DtypeWarning: Columns (3) have mixed types. Specify dtype option on import or set low_memory=False.\n",
      "  interactivity=interactivity, compiler=compiler, result=result)\n"
     ]
    },
    {
     "data": {
      "text/html": [
       "<div>\n",
       "<style scoped>\n",
       "    .dataframe tbody tr th:only-of-type {\n",
       "        vertical-align: middle;\n",
       "    }\n",
       "\n",
       "    .dataframe tbody tr th {\n",
       "        vertical-align: top;\n",
       "    }\n",
       "\n",
       "    .dataframe thead th {\n",
       "        text-align: right;\n",
       "    }\n",
       "</style>\n",
       "<table border=\"1\" class=\"dataframe\">\n",
       "  <thead>\n",
       "    <tr style=\"text-align: right;\">\n",
       "      <th></th>\n",
       "      <th>isbn</th>\n",
       "      <th>book_title</th>\n",
       "      <th>book_author</th>\n",
       "      <th>year_of_publication</th>\n",
       "      <th>publisher</th>\n",
       "    </tr>\n",
       "  </thead>\n",
       "  <tbody>\n",
       "    <tr>\n",
       "      <th>0</th>\n",
       "      <td>195153448</td>\n",
       "      <td>Classical Mythology</td>\n",
       "      <td>Mark P. O. Morford</td>\n",
       "      <td>2002</td>\n",
       "      <td>Oxford University Press</td>\n",
       "    </tr>\n",
       "    <tr>\n",
       "      <th>1</th>\n",
       "      <td>2005018</td>\n",
       "      <td>Clara Callan</td>\n",
       "      <td>Richard Bruce Wright</td>\n",
       "      <td>2001</td>\n",
       "      <td>HarperFlamingo Canada</td>\n",
       "    </tr>\n",
       "    <tr>\n",
       "      <th>2</th>\n",
       "      <td>60973129</td>\n",
       "      <td>Decision in Normandy</td>\n",
       "      <td>Carlo D'Este</td>\n",
       "      <td>1991</td>\n",
       "      <td>HarperPerennial</td>\n",
       "    </tr>\n",
       "    <tr>\n",
       "      <th>3</th>\n",
       "      <td>374157065</td>\n",
       "      <td>Flu: The Story of the Great Influenza Pandemic...</td>\n",
       "      <td>Gina Bari Kolata</td>\n",
       "      <td>1999</td>\n",
       "      <td>Farrar Straus Giroux</td>\n",
       "    </tr>\n",
       "    <tr>\n",
       "      <th>4</th>\n",
       "      <td>393045218</td>\n",
       "      <td>The Mummies of Urumchi</td>\n",
       "      <td>E. J. W. Barber</td>\n",
       "      <td>1999</td>\n",
       "      <td>W. W. Norton &amp;amp; Company</td>\n",
       "    </tr>\n",
       "  </tbody>\n",
       "</table>\n",
       "</div>"
      ],
      "text/plain": [
       "        isbn                                         book_title  \\\n",
       "0  195153448                                Classical Mythology   \n",
       "1    2005018                                       Clara Callan   \n",
       "2   60973129                               Decision in Normandy   \n",
       "3  374157065  Flu: The Story of the Great Influenza Pandemic...   \n",
       "4  393045218                             The Mummies of Urumchi   \n",
       "\n",
       "            book_author year_of_publication                   publisher  \n",
       "0    Mark P. O. Morford                2002     Oxford University Press  \n",
       "1  Richard Bruce Wright                2001       HarperFlamingo Canada  \n",
       "2          Carlo D'Este                1991             HarperPerennial  \n",
       "3      Gina Bari Kolata                1999        Farrar Straus Giroux  \n",
       "4       E. J. W. Barber                1999  W. W. Norton &amp; Company  "
      ]
     },
     "execution_count": 3,
     "metadata": {},
     "output_type": "execute_result"
    }
   ],
   "source": [
    "df_books = pd.read_csv('BX-Books.csv', encoding='cp1252') #ISO-8859-1 or cp1252\n",
    "df_books.head()"
   ]
  },
  {
   "cell_type": "code",
   "execution_count": 4,
   "metadata": {},
   "outputs": [
    {
     "name": "stderr",
     "output_type": "stream",
     "text": [
      "/home/zhenxuan/my_project_dir/my_project_env/lib/python3.6/site-packages/IPython/core/interactiveshell.py:3049: DtypeWarning: Columns (0) have mixed types. Specify dtype option on import or set low_memory=False.\n",
      "  interactivity=interactivity, compiler=compiler, result=result)\n"
     ]
    },
    {
     "data": {
      "text/html": [
       "<div>\n",
       "<style scoped>\n",
       "    .dataframe tbody tr th:only-of-type {\n",
       "        vertical-align: middle;\n",
       "    }\n",
       "\n",
       "    .dataframe tbody tr th {\n",
       "        vertical-align: top;\n",
       "    }\n",
       "\n",
       "    .dataframe thead th {\n",
       "        text-align: right;\n",
       "    }\n",
       "</style>\n",
       "<table border=\"1\" class=\"dataframe\">\n",
       "  <thead>\n",
       "    <tr style=\"text-align: right;\">\n",
       "      <th></th>\n",
       "      <th>user_id</th>\n",
       "      <th>Location</th>\n",
       "      <th>Age</th>\n",
       "    </tr>\n",
       "  </thead>\n",
       "  <tbody>\n",
       "    <tr>\n",
       "      <th>0</th>\n",
       "      <td>1</td>\n",
       "      <td>nyc, new york, usa</td>\n",
       "      <td>NaN</td>\n",
       "    </tr>\n",
       "    <tr>\n",
       "      <th>1</th>\n",
       "      <td>2</td>\n",
       "      <td>stockton, california, usa</td>\n",
       "      <td>18.0</td>\n",
       "    </tr>\n",
       "    <tr>\n",
       "      <th>2</th>\n",
       "      <td>3</td>\n",
       "      <td>moscow, yukon territory, russia</td>\n",
       "      <td>NaN</td>\n",
       "    </tr>\n",
       "    <tr>\n",
       "      <th>3</th>\n",
       "      <td>4</td>\n",
       "      <td>porto, v.n.gaia, portugal</td>\n",
       "      <td>17.0</td>\n",
       "    </tr>\n",
       "    <tr>\n",
       "      <th>4</th>\n",
       "      <td>5</td>\n",
       "      <td>farnborough, hants, united kingdom</td>\n",
       "      <td>NaN</td>\n",
       "    </tr>\n",
       "  </tbody>\n",
       "</table>\n",
       "</div>"
      ],
      "text/plain": [
       "  user_id                            Location   Age\n",
       "0       1                  nyc, new york, usa   NaN\n",
       "1       2           stockton, california, usa  18.0\n",
       "2       3     moscow, yukon territory, russia   NaN\n",
       "3       4           porto, v.n.gaia, portugal  17.0\n",
       "4       5  farnborough, hants, united kingdom   NaN"
      ]
     },
     "execution_count": 4,
     "metadata": {},
     "output_type": "execute_result"
    }
   ],
   "source": [
    "df_users = pd.read_csv('BX-Users.csv', encoding='cp1252') #ISO-8859-1 or cp1252\n",
    "df_users.head()"
   ]
  },
  {
   "cell_type": "code",
   "execution_count": 5,
   "metadata": {},
   "outputs": [
    {
     "name": "stdout",
     "output_type": "stream",
     "text": [
      "<class 'pandas.core.frame.DataFrame'>\n",
      "RangeIndex: 1048575 entries, 0 to 1048574\n",
      "Data columns (total 3 columns):\n",
      "user_id    1048575 non-null int64\n",
      "isbn       1048575 non-null object\n",
      "rating     1048575 non-null int64\n",
      "dtypes: int64(2), object(1)\n",
      "memory usage: 24.0+ MB\n"
     ]
    }
   ],
   "source": [
    "df_rating.info()"
   ]
  },
  {
   "cell_type": "code",
   "execution_count": 6,
   "metadata": {},
   "outputs": [
    {
     "name": "stdout",
     "output_type": "stream",
     "text": [
      "<class 'pandas.core.frame.DataFrame'>\n",
      "RangeIndex: 271379 entries, 0 to 271378\n",
      "Data columns (total 5 columns):\n",
      "isbn                   271379 non-null object\n",
      "book_title             271379 non-null object\n",
      "book_author            271378 non-null object\n",
      "year_of_publication    271379 non-null object\n",
      "publisher              271377 non-null object\n",
      "dtypes: object(5)\n",
      "memory usage: 10.4+ MB\n"
     ]
    }
   ],
   "source": [
    "df_books.info()"
   ]
  },
  {
   "cell_type": "code",
   "execution_count": 7,
   "metadata": {
    "scrolled": false
   },
   "outputs": [
    {
     "name": "stdout",
     "output_type": "stream",
     "text": [
      "<class 'pandas.core.frame.DataFrame'>\n",
      "RangeIndex: 278859 entries, 0 to 278858\n",
      "Data columns (total 3 columns):\n",
      "user_id     278859 non-null object\n",
      "Location    278858 non-null object\n",
      "Age         168096 non-null float64\n",
      "dtypes: float64(1), object(2)\n",
      "memory usage: 6.4+ MB\n"
     ]
    }
   ],
   "source": [
    "df_users.info()"
   ]
  },
  {
   "cell_type": "code",
   "execution_count": 8,
   "metadata": {
    "scrolled": true
   },
   "outputs": [
    {
     "data": {
      "text/plain": [
       "0.6589270416904626"
      ]
     },
     "execution_count": 8,
     "metadata": {},
     "output_type": "execute_result"
    }
   ],
   "source": [
    "df_users['Age'].isnull().sum()/df_users['Age'].count()"
   ]
  },
  {
   "cell_type": "code",
   "execution_count": 9,
   "metadata": {},
   "outputs": [
    {
     "data": {
      "text/plain": [
       "271379"
      ]
     },
     "execution_count": 9,
     "metadata": {},
     "output_type": "execute_result"
    }
   ],
   "source": [
    "len(df_books['isbn'].unique())"
   ]
  },
  {
   "cell_type": "code",
   "execution_count": 10,
   "metadata": {},
   "outputs": [
    {
     "data": {
      "text/plain": [
       "278859"
      ]
     },
     "execution_count": 10,
     "metadata": {},
     "output_type": "execute_result"
    }
   ],
   "source": [
    "len(df_users['user_id'].unique())"
   ]
  },
  {
   "cell_type": "code",
   "execution_count": 11,
   "metadata": {},
   "outputs": [
    {
     "data": {
      "text/plain": [
       "95513"
      ]
     },
     "execution_count": 11,
     "metadata": {},
     "output_type": "execute_result"
    }
   ],
   "source": [
    "len(df_rating['user_id'].unique())"
   ]
  },
  {
   "cell_type": "code",
   "execution_count": 12,
   "metadata": {},
   "outputs": [
    {
     "data": {
      "text/plain": [
       "322102"
      ]
     },
     "execution_count": 12,
     "metadata": {},
     "output_type": "execute_result"
    }
   ],
   "source": [
    "len(df_rating['isbn'].unique())"
   ]
  },
  {
   "cell_type": "code",
   "execution_count": 13,
   "metadata": {},
   "outputs": [
    {
     "name": "stdout",
     "output_type": "stream",
     "text": [
      "<class 'pandas.core.frame.DataFrame'>\n",
      "Int64Index: 1048575 entries, 0 to 1048574\n",
      "Data columns (total 7 columns):\n",
      "user_id                1048575 non-null int64\n",
      "isbn                   1048575 non-null object\n",
      "rating                 1048575 non-null int64\n",
      "book_title             941148 non-null object\n",
      "book_author            941147 non-null object\n",
      "year_of_publication    941148 non-null object\n",
      "publisher              941146 non-null object\n",
      "dtypes: int64(2), object(5)\n",
      "memory usage: 64.0+ MB\n"
     ]
    }
   ],
   "source": [
    "df_niubi = df_rating.merge(df_books, on='isbn', how='left')\n",
    "df_niubi.info()"
   ]
  },
  {
   "cell_type": "code",
   "execution_count": 14,
   "metadata": {},
   "outputs": [
    {
     "data": {
      "text/html": [
       "<div>\n",
       "<style scoped>\n",
       "    .dataframe tbody tr th:only-of-type {\n",
       "        vertical-align: middle;\n",
       "    }\n",
       "\n",
       "    .dataframe tbody tr th {\n",
       "        vertical-align: top;\n",
       "    }\n",
       "\n",
       "    .dataframe thead th {\n",
       "        text-align: right;\n",
       "    }\n",
       "</style>\n",
       "<table border=\"1\" class=\"dataframe\">\n",
       "  <thead>\n",
       "    <tr style=\"text-align: right;\">\n",
       "      <th></th>\n",
       "      <th>user_id</th>\n",
       "      <th>isbn</th>\n",
       "      <th>rating</th>\n",
       "      <th>book_title</th>\n",
       "      <th>book_author</th>\n",
       "      <th>year_of_publication</th>\n",
       "      <th>publisher</th>\n",
       "    </tr>\n",
       "  </thead>\n",
       "  <tbody>\n",
       "    <tr>\n",
       "      <th>0</th>\n",
       "      <td>276725</td>\n",
       "      <td>034545104X</td>\n",
       "      <td>0</td>\n",
       "      <td>Flesh Tones: A Novel</td>\n",
       "      <td>M. J. Rose</td>\n",
       "      <td>2002</td>\n",
       "      <td>Ballantine Books</td>\n",
       "    </tr>\n",
       "    <tr>\n",
       "      <th>1</th>\n",
       "      <td>276726</td>\n",
       "      <td>155061224</td>\n",
       "      <td>5</td>\n",
       "      <td>Rites of Passage</td>\n",
       "      <td>Judith Rae</td>\n",
       "      <td>2001</td>\n",
       "      <td>Heinle</td>\n",
       "    </tr>\n",
       "    <tr>\n",
       "      <th>2</th>\n",
       "      <td>276727</td>\n",
       "      <td>446520802</td>\n",
       "      <td>0</td>\n",
       "      <td>The Notebook</td>\n",
       "      <td>Nicholas Sparks</td>\n",
       "      <td>1996</td>\n",
       "      <td>Warner Books</td>\n",
       "    </tr>\n",
       "    <tr>\n",
       "      <th>3</th>\n",
       "      <td>276729</td>\n",
       "      <td>052165615X</td>\n",
       "      <td>3</td>\n",
       "      <td>Help!: Level 1</td>\n",
       "      <td>Philip Prowse</td>\n",
       "      <td>1999</td>\n",
       "      <td>Cambridge University Press</td>\n",
       "    </tr>\n",
       "    <tr>\n",
       "      <th>4</th>\n",
       "      <td>276729</td>\n",
       "      <td>521795028</td>\n",
       "      <td>6</td>\n",
       "      <td>The Amsterdam Connection : Level 4 (Cambridge ...</td>\n",
       "      <td>Sue Leather</td>\n",
       "      <td>2001</td>\n",
       "      <td>Cambridge University Press</td>\n",
       "    </tr>\n",
       "  </tbody>\n",
       "</table>\n",
       "</div>"
      ],
      "text/plain": [
       "   user_id        isbn  rating  \\\n",
       "0   276725  034545104X       0   \n",
       "1   276726   155061224       5   \n",
       "2   276727   446520802       0   \n",
       "3   276729  052165615X       3   \n",
       "4   276729   521795028       6   \n",
       "\n",
       "                                          book_title      book_author  \\\n",
       "0                               Flesh Tones: A Novel       M. J. Rose   \n",
       "1                                   Rites of Passage       Judith Rae   \n",
       "2                                       The Notebook  Nicholas Sparks   \n",
       "3                                     Help!: Level 1    Philip Prowse   \n",
       "4  The Amsterdam Connection : Level 4 (Cambridge ...      Sue Leather   \n",
       "\n",
       "  year_of_publication                   publisher  \n",
       "0                2002            Ballantine Books  \n",
       "1                2001                      Heinle  \n",
       "2                1996                Warner Books  \n",
       "3                1999  Cambridge University Press  \n",
       "4                2001  Cambridge University Press  "
      ]
     },
     "execution_count": 14,
     "metadata": {},
     "output_type": "execute_result"
    }
   ],
   "source": [
    "df_niubi.head()"
   ]
  },
  {
   "cell_type": "code",
   "execution_count": 15,
   "metadata": {},
   "outputs": [
    {
     "name": "stdout",
     "output_type": "stream",
     "text": [
      "<class 'pandas.core.frame.DataFrame'>\n",
      "Int64Index: 1048575 entries, 0 to 1048574\n",
      "Data columns (total 9 columns):\n",
      "user_id                1048575 non-null object\n",
      "isbn                   1048575 non-null object\n",
      "rating                 1048575 non-null int64\n",
      "book_title             941148 non-null object\n",
      "book_author            941147 non-null object\n",
      "year_of_publication    941148 non-null object\n",
      "publisher              941146 non-null object\n",
      "Location               1039014 non-null object\n",
      "Age                    760395 non-null float64\n",
      "dtypes: float64(1), int64(1), object(7)\n",
      "memory usage: 80.0+ MB\n"
     ]
    }
   ],
   "source": [
    "df_niubi = df_niubi.merge(df_users, on='user_id', how='left')\n",
    "df_niubi.info()"
   ]
  },
  {
   "cell_type": "code",
   "execution_count": 16,
   "metadata": {},
   "outputs": [
    {
     "data": {
      "text/html": [
       "<div>\n",
       "<style scoped>\n",
       "    .dataframe tbody tr th:only-of-type {\n",
       "        vertical-align: middle;\n",
       "    }\n",
       "\n",
       "    .dataframe tbody tr th {\n",
       "        vertical-align: top;\n",
       "    }\n",
       "\n",
       "    .dataframe thead th {\n",
       "        text-align: right;\n",
       "    }\n",
       "</style>\n",
       "<table border=\"1\" class=\"dataframe\">\n",
       "  <thead>\n",
       "    <tr style=\"text-align: right;\">\n",
       "      <th></th>\n",
       "      <th>user_id</th>\n",
       "      <th>isbn</th>\n",
       "      <th>rating</th>\n",
       "      <th>book_title</th>\n",
       "      <th>book_author</th>\n",
       "      <th>year_of_publication</th>\n",
       "      <th>publisher</th>\n",
       "      <th>Location</th>\n",
       "      <th>Age</th>\n",
       "    </tr>\n",
       "  </thead>\n",
       "  <tbody>\n",
       "    <tr>\n",
       "      <th>0</th>\n",
       "      <td>276725</td>\n",
       "      <td>034545104X</td>\n",
       "      <td>0</td>\n",
       "      <td>Flesh Tones: A Novel</td>\n",
       "      <td>M. J. Rose</td>\n",
       "      <td>2002</td>\n",
       "      <td>Ballantine Books</td>\n",
       "      <td>NaN</td>\n",
       "      <td>NaN</td>\n",
       "    </tr>\n",
       "    <tr>\n",
       "      <th>1</th>\n",
       "      <td>276726</td>\n",
       "      <td>155061224</td>\n",
       "      <td>5</td>\n",
       "      <td>Rites of Passage</td>\n",
       "      <td>Judith Rae</td>\n",
       "      <td>2001</td>\n",
       "      <td>Heinle</td>\n",
       "      <td>NaN</td>\n",
       "      <td>NaN</td>\n",
       "    </tr>\n",
       "    <tr>\n",
       "      <th>2</th>\n",
       "      <td>276727</td>\n",
       "      <td>446520802</td>\n",
       "      <td>0</td>\n",
       "      <td>The Notebook</td>\n",
       "      <td>Nicholas Sparks</td>\n",
       "      <td>1996</td>\n",
       "      <td>Warner Books</td>\n",
       "      <td>NaN</td>\n",
       "      <td>NaN</td>\n",
       "    </tr>\n",
       "    <tr>\n",
       "      <th>3</th>\n",
       "      <td>276729</td>\n",
       "      <td>052165615X</td>\n",
       "      <td>3</td>\n",
       "      <td>Help!: Level 1</td>\n",
       "      <td>Philip Prowse</td>\n",
       "      <td>1999</td>\n",
       "      <td>Cambridge University Press</td>\n",
       "      <td>NaN</td>\n",
       "      <td>NaN</td>\n",
       "    </tr>\n",
       "    <tr>\n",
       "      <th>4</th>\n",
       "      <td>276729</td>\n",
       "      <td>521795028</td>\n",
       "      <td>6</td>\n",
       "      <td>The Amsterdam Connection : Level 4 (Cambridge ...</td>\n",
       "      <td>Sue Leather</td>\n",
       "      <td>2001</td>\n",
       "      <td>Cambridge University Press</td>\n",
       "      <td>NaN</td>\n",
       "      <td>NaN</td>\n",
       "    </tr>\n",
       "  </tbody>\n",
       "</table>\n",
       "</div>"
      ],
      "text/plain": [
       "  user_id        isbn  rating  \\\n",
       "0  276725  034545104X       0   \n",
       "1  276726   155061224       5   \n",
       "2  276727   446520802       0   \n",
       "3  276729  052165615X       3   \n",
       "4  276729   521795028       6   \n",
       "\n",
       "                                          book_title      book_author  \\\n",
       "0                               Flesh Tones: A Novel       M. J. Rose   \n",
       "1                                   Rites of Passage       Judith Rae   \n",
       "2                                       The Notebook  Nicholas Sparks   \n",
       "3                                     Help!: Level 1    Philip Prowse   \n",
       "4  The Amsterdam Connection : Level 4 (Cambridge ...      Sue Leather   \n",
       "\n",
       "  year_of_publication                   publisher Location  Age  \n",
       "0                2002            Ballantine Books      NaN  NaN  \n",
       "1                2001                      Heinle      NaN  NaN  \n",
       "2                1996                Warner Books      NaN  NaN  \n",
       "3                1999  Cambridge University Press      NaN  NaN  \n",
       "4                2001  Cambridge University Press      NaN  NaN  "
      ]
     },
     "execution_count": 16,
     "metadata": {},
     "output_type": "execute_result"
    }
   ],
   "source": [
    "# df_niubi = df_niubi.fillna(0)\n",
    "df_niubi.head()"
   ]
  },
  {
   "cell_type": "code",
   "execution_count": 17,
   "metadata": {},
   "outputs": [
    {
     "name": "stdout",
     "output_type": "stream",
     "text": [
      "<class 'pandas.core.frame.DataFrame'>\n",
      "Int64Index: 1048575 entries, 0 to 1048574\n",
      "Data columns (total 9 columns):\n",
      "user_id                1048575 non-null object\n",
      "isbn                   1048575 non-null object\n",
      "rating                 1048575 non-null int64\n",
      "book_title             941148 non-null object\n",
      "book_author            941147 non-null object\n",
      "year_of_publication    941148 non-null object\n",
      "publisher              941146 non-null object\n",
      "Location               1039014 non-null object\n",
      "Age                    760395 non-null float64\n",
      "dtypes: float64(1), int64(1), object(7)\n",
      "memory usage: 80.0+ MB\n"
     ]
    }
   ],
   "source": [
    "df_niubi.info()"
   ]
  },
  {
   "cell_type": "code",
   "execution_count": 18,
   "metadata": {},
   "outputs": [
    {
     "data": {
      "text/plain": [
       "95513"
      ]
     },
     "execution_count": 18,
     "metadata": {},
     "output_type": "execute_result"
    }
   ],
   "source": [
    "len(df_niubi['user_id'].unique())"
   ]
  },
  {
   "cell_type": "code",
   "execution_count": 19,
   "metadata": {},
   "outputs": [
    {
     "data": {
      "text/plain": [
       "322102"
      ]
     },
     "execution_count": 19,
     "metadata": {},
     "output_type": "execute_result"
    }
   ],
   "source": [
    "len(df_niubi['isbn'].unique())"
   ]
  },
  {
   "cell_type": "code",
   "execution_count": 20,
   "metadata": {},
   "outputs": [
    {
     "name": "stdout",
     "output_type": "stream",
     "text": [
      "<class 'pandas.core.frame.DataFrame'>\n",
      "Int64Index: 1048575 entries, 0 to 1048574\n",
      "Data columns (total 3 columns):\n",
      "user_id    1048575 non-null object\n",
      "isbn       1048575 non-null object\n",
      "rating     1048575 non-null int64\n",
      "dtypes: int64(1), object(2)\n",
      "memory usage: 32.0+ MB\n"
     ]
    }
   ],
   "source": [
    "df1 = df_niubi.drop(['Age', 'Location', 'publisher', 'year_of_publication', 'book_author', 'book_title'], axis=1)\n",
    "df1.info()"
   ]
  },
  {
   "cell_type": "code",
   "execution_count": 21,
   "metadata": {},
   "outputs": [
    {
     "data": {
      "text/html": [
       "<div>\n",
       "<style scoped>\n",
       "    .dataframe tbody tr th:only-of-type {\n",
       "        vertical-align: middle;\n",
       "    }\n",
       "\n",
       "    .dataframe tbody tr th {\n",
       "        vertical-align: top;\n",
       "    }\n",
       "\n",
       "    .dataframe thead th {\n",
       "        text-align: right;\n",
       "    }\n",
       "</style>\n",
       "<table border=\"1\" class=\"dataframe\">\n",
       "  <thead>\n",
       "    <tr style=\"text-align: right;\">\n",
       "      <th></th>\n",
       "      <th>rating</th>\n",
       "    </tr>\n",
       "  </thead>\n",
       "  <tbody>\n",
       "    <tr>\n",
       "      <th>count</th>\n",
       "      <td>1048575</td>\n",
       "    </tr>\n",
       "    <tr>\n",
       "      <th>mean</th>\n",
       "      <td>2</td>\n",
       "    </tr>\n",
       "    <tr>\n",
       "      <th>std</th>\n",
       "      <td>3</td>\n",
       "    </tr>\n",
       "    <tr>\n",
       "      <th>min</th>\n",
       "      <td>0</td>\n",
       "    </tr>\n",
       "    <tr>\n",
       "      <th>25%</th>\n",
       "      <td>0</td>\n",
       "    </tr>\n",
       "    <tr>\n",
       "      <th>50%</th>\n",
       "      <td>0</td>\n",
       "    </tr>\n",
       "    <tr>\n",
       "      <th>75%</th>\n",
       "      <td>7</td>\n",
       "    </tr>\n",
       "    <tr>\n",
       "      <th>max</th>\n",
       "      <td>10</td>\n",
       "    </tr>\n",
       "  </tbody>\n",
       "</table>\n",
       "</div>"
      ],
      "text/plain": [
       "        rating\n",
       "count  1048575\n",
       "mean         2\n",
       "std          3\n",
       "min          0\n",
       "25%          0\n",
       "50%          0\n",
       "75%          7\n",
       "max         10"
      ]
     },
     "execution_count": 21,
     "metadata": {},
     "output_type": "execute_result"
    }
   ],
   "source": [
    "df1.describe().astype(int)"
   ]
  },
  {
   "cell_type": "code",
   "execution_count": 22,
   "metadata": {},
   "outputs": [],
   "source": [
    "#To cope up with computing power I have and to reduce the dataset size, I am considering users who have rated atleast 100 books\n",
    "#and books which have atleast 100 ratings\n",
    "counts1 = df1['user_id'].value_counts()\n",
    "df1 = df1[df1['user_id'].isin(counts1[counts1 >= 100].index)]\n",
    "counts = df1['rating'].value_counts()\n",
    "df1 = df1[df1['rating'].isin(counts[counts >= 100].index)]"
   ]
  },
  {
   "cell_type": "code",
   "execution_count": 23,
   "metadata": {
    "scrolled": true
   },
   "outputs": [
    {
     "data": {
      "text/html": [
       "<div>\n",
       "<style scoped>\n",
       "    .dataframe tbody tr th:only-of-type {\n",
       "        vertical-align: middle;\n",
       "    }\n",
       "\n",
       "    .dataframe tbody tr th {\n",
       "        vertical-align: top;\n",
       "    }\n",
       "\n",
       "    .dataframe thead th {\n",
       "        text-align: right;\n",
       "    }\n",
       "</style>\n",
       "<table border=\"1\" class=\"dataframe\">\n",
       "  <thead>\n",
       "    <tr style=\"text-align: right;\">\n",
       "      <th></th>\n",
       "      <th>user_id</th>\n",
       "      <th>isbn</th>\n",
       "      <th>rating</th>\n",
       "    </tr>\n",
       "  </thead>\n",
       "  <tbody>\n",
       "    <tr>\n",
       "      <th>0</th>\n",
       "      <td>276925</td>\n",
       "      <td>6511929</td>\n",
       "      <td>0</td>\n",
       "    </tr>\n",
       "    <tr>\n",
       "      <th>1</th>\n",
       "      <td>276925</td>\n",
       "      <td>002542730X</td>\n",
       "      <td>10</td>\n",
       "    </tr>\n",
       "    <tr>\n",
       "      <th>2</th>\n",
       "      <td>276925</td>\n",
       "      <td>60520507</td>\n",
       "      <td>0</td>\n",
       "    </tr>\n",
       "    <tr>\n",
       "      <th>3</th>\n",
       "      <td>276925</td>\n",
       "      <td>60930934</td>\n",
       "      <td>0</td>\n",
       "    </tr>\n",
       "    <tr>\n",
       "      <th>4</th>\n",
       "      <td>276925</td>\n",
       "      <td>60951303</td>\n",
       "      <td>0</td>\n",
       "    </tr>\n",
       "    <tr>\n",
       "      <th>5</th>\n",
       "      <td>276925</td>\n",
       "      <td>99414732</td>\n",
       "      <td>7</td>\n",
       "    </tr>\n",
       "    <tr>\n",
       "      <th>6</th>\n",
       "      <td>276925</td>\n",
       "      <td>140154078</td>\n",
       "      <td>6</td>\n",
       "    </tr>\n",
       "    <tr>\n",
       "      <th>7</th>\n",
       "      <td>276925</td>\n",
       "      <td>140327592</td>\n",
       "      <td>0</td>\n",
       "    </tr>\n",
       "    <tr>\n",
       "      <th>8</th>\n",
       "      <td>276925</td>\n",
       "      <td>140367616</td>\n",
       "      <td>0</td>\n",
       "    </tr>\n",
       "    <tr>\n",
       "      <th>9</th>\n",
       "      <td>276925</td>\n",
       "      <td>141181222</td>\n",
       "      <td>0</td>\n",
       "    </tr>\n",
       "    <tr>\n",
       "      <th>10</th>\n",
       "      <td>276925</td>\n",
       "      <td>151010633</td>\n",
       "      <td>0</td>\n",
       "    </tr>\n",
       "    <tr>\n",
       "      <th>11</th>\n",
       "      <td>276925</td>\n",
       "      <td>192834312</td>\n",
       "      <td>0</td>\n",
       "    </tr>\n",
       "    <tr>\n",
       "      <th>12</th>\n",
       "      <td>276925</td>\n",
       "      <td>194216748</td>\n",
       "      <td>5</td>\n",
       "    </tr>\n",
       "    <tr>\n",
       "      <th>13</th>\n",
       "      <td>276925</td>\n",
       "      <td>240514866</td>\n",
       "      <td>0</td>\n",
       "    </tr>\n",
       "    <tr>\n",
       "      <th>14</th>\n",
       "      <td>276925</td>\n",
       "      <td>316666343</td>\n",
       "      <td>0</td>\n",
       "    </tr>\n",
       "    <tr>\n",
       "      <th>15</th>\n",
       "      <td>276925</td>\n",
       "      <td>345391810</td>\n",
       "      <td>0</td>\n",
       "    </tr>\n",
       "    <tr>\n",
       "      <th>16</th>\n",
       "      <td>276925</td>\n",
       "      <td>375400699</td>\n",
       "      <td>0</td>\n",
       "    </tr>\n",
       "    <tr>\n",
       "      <th>17</th>\n",
       "      <td>276925</td>\n",
       "      <td>385504209</td>\n",
       "      <td>8</td>\n",
       "    </tr>\n",
       "    <tr>\n",
       "      <th>18</th>\n",
       "      <td>276925</td>\n",
       "      <td>043527242X</td>\n",
       "      <td>0</td>\n",
       "    </tr>\n",
       "    <tr>\n",
       "      <th>19</th>\n",
       "      <td>276925</td>\n",
       "      <td>439284031</td>\n",
       "      <td>0</td>\n",
       "    </tr>\n",
       "    <tr>\n",
       "      <th>20</th>\n",
       "      <td>276925</td>\n",
       "      <td>439286182</td>\n",
       "      <td>0</td>\n",
       "    </tr>\n",
       "    <tr>\n",
       "      <th>21</th>\n",
       "      <td>276925</td>\n",
       "      <td>439286239</td>\n",
       "      <td>0</td>\n",
       "    </tr>\n",
       "    <tr>\n",
       "      <th>22</th>\n",
       "      <td>276925</td>\n",
       "      <td>449221148</td>\n",
       "      <td>0</td>\n",
       "    </tr>\n",
       "    <tr>\n",
       "      <th>23</th>\n",
       "      <td>276925</td>\n",
       "      <td>451527747</td>\n",
       "      <td>0</td>\n",
       "    </tr>\n",
       "    <tr>\n",
       "      <th>24</th>\n",
       "      <td>276925</td>\n",
       "      <td>486282112</td>\n",
       "      <td>0</td>\n",
       "    </tr>\n",
       "    <tr>\n",
       "      <th>25</th>\n",
       "      <td>276925</td>\n",
       "      <td>486424499</td>\n",
       "      <td>0</td>\n",
       "    </tr>\n",
       "    <tr>\n",
       "      <th>26</th>\n",
       "      <td>276925</td>\n",
       "      <td>553275283</td>\n",
       "      <td>8</td>\n",
       "    </tr>\n",
       "    <tr>\n",
       "      <th>27</th>\n",
       "      <td>276925</td>\n",
       "      <td>582530431</td>\n",
       "      <td>9</td>\n",
       "    </tr>\n",
       "    <tr>\n",
       "      <th>28</th>\n",
       "      <td>276925</td>\n",
       "      <td>590502123</td>\n",
       "      <td>0</td>\n",
       "    </tr>\n",
       "    <tr>\n",
       "      <th>29</th>\n",
       "      <td>276925</td>\n",
       "      <td>595132189</td>\n",
       "      <td>0</td>\n",
       "    </tr>\n",
       "    <tr>\n",
       "      <th>...</th>\n",
       "      <td>...</td>\n",
       "      <td>...</td>\n",
       "      <td>...</td>\n",
       "    </tr>\n",
       "    <tr>\n",
       "      <th>603785</th>\n",
       "      <td>250764</td>\n",
       "      <td>449221180</td>\n",
       "      <td>0</td>\n",
       "    </tr>\n",
       "    <tr>\n",
       "      <th>603786</th>\n",
       "      <td>250764</td>\n",
       "      <td>449221873</td>\n",
       "      <td>0</td>\n",
       "    </tr>\n",
       "    <tr>\n",
       "      <th>603787</th>\n",
       "      <td>250764</td>\n",
       "      <td>449238342</td>\n",
       "      <td>0</td>\n",
       "    </tr>\n",
       "    <tr>\n",
       "      <th>603788</th>\n",
       "      <td>250764</td>\n",
       "      <td>449701956</td>\n",
       "      <td>0</td>\n",
       "    </tr>\n",
       "    <tr>\n",
       "      <th>603789</th>\n",
       "      <td>250764</td>\n",
       "      <td>449907481</td>\n",
       "      <td>0</td>\n",
       "    </tr>\n",
       "    <tr>\n",
       "      <th>603790</th>\n",
       "      <td>250764</td>\n",
       "      <td>451130995</td>\n",
       "      <td>0</td>\n",
       "    </tr>\n",
       "    <tr>\n",
       "      <th>603791</th>\n",
       "      <td>250764</td>\n",
       "      <td>451145097</td>\n",
       "      <td>0</td>\n",
       "    </tr>\n",
       "    <tr>\n",
       "      <th>603792</th>\n",
       "      <td>250764</td>\n",
       "      <td>451150406</td>\n",
       "      <td>0</td>\n",
       "    </tr>\n",
       "    <tr>\n",
       "      <th>603793</th>\n",
       "      <td>250764</td>\n",
       "      <td>451157516</td>\n",
       "      <td>0</td>\n",
       "    </tr>\n",
       "    <tr>\n",
       "      <th>603794</th>\n",
       "      <td>250764</td>\n",
       "      <td>451160533</td>\n",
       "      <td>0</td>\n",
       "    </tr>\n",
       "    <tr>\n",
       "      <th>603795</th>\n",
       "      <td>250764</td>\n",
       "      <td>451173139</td>\n",
       "      <td>0</td>\n",
       "    </tr>\n",
       "    <tr>\n",
       "      <th>603796</th>\n",
       "      <td>250764</td>\n",
       "      <td>451180410</td>\n",
       "      <td>0</td>\n",
       "    </tr>\n",
       "    <tr>\n",
       "      <th>603797</th>\n",
       "      <td>250764</td>\n",
       "      <td>451188497</td>\n",
       "      <td>0</td>\n",
       "    </tr>\n",
       "    <tr>\n",
       "      <th>603798</th>\n",
       "      <td>250764</td>\n",
       "      <td>451191013</td>\n",
       "      <td>0</td>\n",
       "    </tr>\n",
       "    <tr>\n",
       "      <th>603799</th>\n",
       "      <td>250764</td>\n",
       "      <td>451191692</td>\n",
       "      <td>0</td>\n",
       "    </tr>\n",
       "    <tr>\n",
       "      <th>603800</th>\n",
       "      <td>250764</td>\n",
       "      <td>451192001</td>\n",
       "      <td>0</td>\n",
       "    </tr>\n",
       "    <tr>\n",
       "      <th>603801</th>\n",
       "      <td>250764</td>\n",
       "      <td>451193911</td>\n",
       "      <td>0</td>\n",
       "    </tr>\n",
       "    <tr>\n",
       "      <th>603802</th>\n",
       "      <td>250764</td>\n",
       "      <td>451197232</td>\n",
       "      <td>0</td>\n",
       "    </tr>\n",
       "    <tr>\n",
       "      <th>603803</th>\n",
       "      <td>250764</td>\n",
       "      <td>451202309</td>\n",
       "      <td>0</td>\n",
       "    </tr>\n",
       "    <tr>\n",
       "      <th>603804</th>\n",
       "      <td>250764</td>\n",
       "      <td>451202953</td>\n",
       "      <td>0</td>\n",
       "    </tr>\n",
       "    <tr>\n",
       "      <th>603805</th>\n",
       "      <td>250764</td>\n",
       "      <td>451203615</td>\n",
       "      <td>0</td>\n",
       "    </tr>\n",
       "    <tr>\n",
       "      <th>603806</th>\n",
       "      <td>250764</td>\n",
       "      <td>451205626</td>\n",
       "      <td>0</td>\n",
       "    </tr>\n",
       "    <tr>\n",
       "      <th>603807</th>\n",
       "      <td>250764</td>\n",
       "      <td>451206711</td>\n",
       "      <td>0</td>\n",
       "    </tr>\n",
       "    <tr>\n",
       "      <th>603808</th>\n",
       "      <td>250764</td>\n",
       "      <td>451400763</td>\n",
       "      <td>0</td>\n",
       "    </tr>\n",
       "    <tr>\n",
       "      <th>603809</th>\n",
       "      <td>250764</td>\n",
       "      <td>451401387</td>\n",
       "      <td>0</td>\n",
       "    </tr>\n",
       "    <tr>\n",
       "      <th>603810</th>\n",
       "      <td>250764</td>\n",
       "      <td>451410777</td>\n",
       "      <td>0</td>\n",
       "    </tr>\n",
       "    <tr>\n",
       "      <th>603811</th>\n",
       "      <td>250764</td>\n",
       "      <td>452264464</td>\n",
       "      <td>8</td>\n",
       "    </tr>\n",
       "    <tr>\n",
       "      <th>603812</th>\n",
       "      <td>250764</td>\n",
       "      <td>048623715X</td>\n",
       "      <td>0</td>\n",
       "    </tr>\n",
       "    <tr>\n",
       "      <th>603813</th>\n",
       "      <td>250764</td>\n",
       "      <td>486256588</td>\n",
       "      <td>0</td>\n",
       "    </tr>\n",
       "    <tr>\n",
       "      <th>603814</th>\n",
       "      <td>250764</td>\n",
       "      <td>515069434</td>\n",
       "      <td>0</td>\n",
       "    </tr>\n",
       "  </tbody>\n",
       "</table>\n",
       "<p>603815 rows × 3 columns</p>\n",
       "</div>"
      ],
      "text/plain": [
       "       user_id        isbn  rating\n",
       "0       276925     6511929       0\n",
       "1       276925  002542730X      10\n",
       "2       276925    60520507       0\n",
       "3       276925    60930934       0\n",
       "4       276925    60951303       0\n",
       "5       276925    99414732       7\n",
       "6       276925   140154078       6\n",
       "7       276925   140327592       0\n",
       "8       276925   140367616       0\n",
       "9       276925   141181222       0\n",
       "10      276925   151010633       0\n",
       "11      276925   192834312       0\n",
       "12      276925   194216748       5\n",
       "13      276925   240514866       0\n",
       "14      276925   316666343       0\n",
       "15      276925   345391810       0\n",
       "16      276925   375400699       0\n",
       "17      276925   385504209       8\n",
       "18      276925  043527242X       0\n",
       "19      276925   439284031       0\n",
       "20      276925   439286182       0\n",
       "21      276925   439286239       0\n",
       "22      276925   449221148       0\n",
       "23      276925   451527747       0\n",
       "24      276925   486282112       0\n",
       "25      276925   486424499       0\n",
       "26      276925   553275283       8\n",
       "27      276925   582530431       9\n",
       "28      276925   590502123       0\n",
       "29      276925   595132189       0\n",
       "...        ...         ...     ...\n",
       "603785  250764   449221180       0\n",
       "603786  250764   449221873       0\n",
       "603787  250764   449238342       0\n",
       "603788  250764   449701956       0\n",
       "603789  250764   449907481       0\n",
       "603790  250764   451130995       0\n",
       "603791  250764   451145097       0\n",
       "603792  250764   451150406       0\n",
       "603793  250764   451157516       0\n",
       "603794  250764   451160533       0\n",
       "603795  250764   451173139       0\n",
       "603796  250764   451180410       0\n",
       "603797  250764   451188497       0\n",
       "603798  250764   451191013       0\n",
       "603799  250764   451191692       0\n",
       "603800  250764   451192001       0\n",
       "603801  250764   451193911       0\n",
       "603802  250764   451197232       0\n",
       "603803  250764   451202309       0\n",
       "603804  250764   451202953       0\n",
       "603805  250764   451203615       0\n",
       "603806  250764   451205626       0\n",
       "603807  250764   451206711       0\n",
       "603808  250764   451400763       0\n",
       "603809  250764   451401387       0\n",
       "603810  250764   451410777       0\n",
       "603811  250764   452264464       8\n",
       "603812  250764  048623715X       0\n",
       "603813  250764   486256588       0\n",
       "603814  250764   515069434       0\n",
       "\n",
       "[603815 rows x 3 columns]"
      ]
     },
     "execution_count": 23,
     "metadata": {},
     "output_type": "execute_result"
    }
   ],
   "source": [
    "df1.reset_index(drop=True)"
   ]
  },
  {
   "cell_type": "code",
   "execution_count": 24,
   "metadata": {},
   "outputs": [
    {
     "name": "stdout",
     "output_type": "stream",
     "text": [
      "1684\n",
      "228394\n"
     ]
    }
   ],
   "source": [
    "n_users = df1.user_id.unique().shape[0]\n",
    "n_books = df1.isbn.unique().shape[0]\n",
    "print(n_users)\n",
    "print(n_books)"
   ]
  },
  {
   "cell_type": "code",
   "execution_count": 25,
   "metadata": {
    "scrolled": true
   },
   "outputs": [
    {
     "name": "stdout",
     "output_type": "stream",
     "text": [
      "<class 'pandas.core.frame.DataFrame'>\n",
      "RangeIndex: 1048575 entries, 0 to 1048574\n",
      "Data columns (total 3 columns):\n",
      "user_id    1048575 non-null int64\n",
      "isbn       1048575 non-null object\n",
      "rating     1048575 non-null int64\n",
      "dtypes: int64(2), object(1)\n",
      "memory usage: 24.0+ MB\n"
     ]
    }
   ],
   "source": [
    "ratings = df_rating\n",
    "ratings.info()"
   ]
  },
  {
   "cell_type": "code",
   "execution_count": 29,
   "metadata": {
    "scrolled": true
   },
   "outputs": [
    {
     "name": "stdout",
     "output_type": "stream",
     "text": [
      "(1684, 228394)\n"
     ]
    },
    {
     "data": {
      "text/html": [
       "<div>\n",
       "<style scoped>\n",
       "    .dataframe tbody tr th:only-of-type {\n",
       "        vertical-align: middle;\n",
       "    }\n",
       "\n",
       "    .dataframe tbody tr th {\n",
       "        vertical-align: top;\n",
       "    }\n",
       "\n",
       "    .dataframe thead th {\n",
       "        text-align: right;\n",
       "    }\n",
       "</style>\n",
       "<table border=\"1\" class=\"dataframe\">\n",
       "  <thead>\n",
       "    <tr style=\"text-align: right;\">\n",
       "      <th>isbn</th>\n",
       "      <th>904492401X</th>\n",
       "      <th>*0452281903</th>\n",
       "      <th>*0515128325</th>\n",
       "      <th>0</th>\n",
       "      <th>0 00 612183 7</th>\n",
       "      <th>0 00 614494 2</th>\n",
       "      <th>0 7336 1053 6</th>\n",
       "      <th>0 75280 122 8</th>\n",
       "      <th>0 85550 000 x</th>\n",
       "      <th>0 907 062 008</th>\n",
       "      <th>...</th>\n",
       "      <th>UNGRANDHOMMED</th>\n",
       "      <th>X000000000</th>\n",
       "      <th>YOUTELLEM,AND</th>\n",
       "      <th>Z380703475</th>\n",
       "      <th>ZR903CX0003</th>\n",
       "      <th>\\0432534220\\\"\"</th>\n",
       "      <th>\\2842053052\\\"\"</th>\n",
       "      <th>b00005wz75</th>\n",
       "      <th>cn108465</th>\n",
       "      <th>cn113107</th>\n",
       "    </tr>\n",
       "    <tr>\n",
       "      <th>user_id</th>\n",
       "      <th></th>\n",
       "      <th></th>\n",
       "      <th></th>\n",
       "      <th></th>\n",
       "      <th></th>\n",
       "      <th></th>\n",
       "      <th></th>\n",
       "      <th></th>\n",
       "      <th></th>\n",
       "      <th></th>\n",
       "      <th></th>\n",
       "      <th></th>\n",
       "      <th></th>\n",
       "      <th></th>\n",
       "      <th></th>\n",
       "      <th></th>\n",
       "      <th></th>\n",
       "      <th></th>\n",
       "      <th></th>\n",
       "      <th></th>\n",
       "      <th></th>\n",
       "    </tr>\n",
       "  </thead>\n",
       "  <tbody>\n",
       "    <tr>\n",
       "      <th>183</th>\n",
       "      <td>NaN</td>\n",
       "      <td>NaN</td>\n",
       "      <td>NaN</td>\n",
       "      <td>NaN</td>\n",
       "      <td>NaN</td>\n",
       "      <td>NaN</td>\n",
       "      <td>NaN</td>\n",
       "      <td>NaN</td>\n",
       "      <td>NaN</td>\n",
       "      <td>NaN</td>\n",
       "      <td>...</td>\n",
       "      <td>NaN</td>\n",
       "      <td>NaN</td>\n",
       "      <td>NaN</td>\n",
       "      <td>NaN</td>\n",
       "      <td>NaN</td>\n",
       "      <td>NaN</td>\n",
       "      <td>NaN</td>\n",
       "      <td>NaN</td>\n",
       "      <td>NaN</td>\n",
       "      <td>NaN</td>\n",
       "    </tr>\n",
       "    <tr>\n",
       "      <th>254</th>\n",
       "      <td>NaN</td>\n",
       "      <td>NaN</td>\n",
       "      <td>NaN</td>\n",
       "      <td>NaN</td>\n",
       "      <td>NaN</td>\n",
       "      <td>NaN</td>\n",
       "      <td>NaN</td>\n",
       "      <td>NaN</td>\n",
       "      <td>NaN</td>\n",
       "      <td>NaN</td>\n",
       "      <td>...</td>\n",
       "      <td>NaN</td>\n",
       "      <td>NaN</td>\n",
       "      <td>NaN</td>\n",
       "      <td>NaN</td>\n",
       "      <td>NaN</td>\n",
       "      <td>NaN</td>\n",
       "      <td>NaN</td>\n",
       "      <td>NaN</td>\n",
       "      <td>NaN</td>\n",
       "      <td>NaN</td>\n",
       "    </tr>\n",
       "    <tr>\n",
       "      <th>507</th>\n",
       "      <td>NaN</td>\n",
       "      <td>NaN</td>\n",
       "      <td>NaN</td>\n",
       "      <td>NaN</td>\n",
       "      <td>NaN</td>\n",
       "      <td>NaN</td>\n",
       "      <td>NaN</td>\n",
       "      <td>NaN</td>\n",
       "      <td>NaN</td>\n",
       "      <td>NaN</td>\n",
       "      <td>...</td>\n",
       "      <td>NaN</td>\n",
       "      <td>NaN</td>\n",
       "      <td>NaN</td>\n",
       "      <td>NaN</td>\n",
       "      <td>NaN</td>\n",
       "      <td>NaN</td>\n",
       "      <td>NaN</td>\n",
       "      <td>NaN</td>\n",
       "      <td>NaN</td>\n",
       "      <td>NaN</td>\n",
       "    </tr>\n",
       "    <tr>\n",
       "      <th>882</th>\n",
       "      <td>NaN</td>\n",
       "      <td>NaN</td>\n",
       "      <td>NaN</td>\n",
       "      <td>NaN</td>\n",
       "      <td>NaN</td>\n",
       "      <td>NaN</td>\n",
       "      <td>NaN</td>\n",
       "      <td>NaN</td>\n",
       "      <td>NaN</td>\n",
       "      <td>NaN</td>\n",
       "      <td>...</td>\n",
       "      <td>NaN</td>\n",
       "      <td>NaN</td>\n",
       "      <td>NaN</td>\n",
       "      <td>NaN</td>\n",
       "      <td>NaN</td>\n",
       "      <td>NaN</td>\n",
       "      <td>NaN</td>\n",
       "      <td>NaN</td>\n",
       "      <td>NaN</td>\n",
       "      <td>NaN</td>\n",
       "    </tr>\n",
       "    <tr>\n",
       "      <th>1424</th>\n",
       "      <td>NaN</td>\n",
       "      <td>NaN</td>\n",
       "      <td>NaN</td>\n",
       "      <td>NaN</td>\n",
       "      <td>NaN</td>\n",
       "      <td>NaN</td>\n",
       "      <td>NaN</td>\n",
       "      <td>NaN</td>\n",
       "      <td>NaN</td>\n",
       "      <td>NaN</td>\n",
       "      <td>...</td>\n",
       "      <td>NaN</td>\n",
       "      <td>NaN</td>\n",
       "      <td>NaN</td>\n",
       "      <td>NaN</td>\n",
       "      <td>NaN</td>\n",
       "      <td>NaN</td>\n",
       "      <td>NaN</td>\n",
       "      <td>NaN</td>\n",
       "      <td>NaN</td>\n",
       "      <td>NaN</td>\n",
       "    </tr>\n",
       "  </tbody>\n",
       "</table>\n",
       "<p>5 rows × 228394 columns</p>\n",
       "</div>"
      ],
      "text/plain": [
       "isbn      904492401X  *0452281903  *0515128325   0  0 00 612183 7  \\\n",
       "user_id                                                             \n",
       "183              NaN          NaN          NaN NaN            NaN   \n",
       "254              NaN          NaN          NaN NaN            NaN   \n",
       "507              NaN          NaN          NaN NaN            NaN   \n",
       "882              NaN          NaN          NaN NaN            NaN   \n",
       "1424             NaN          NaN          NaN NaN            NaN   \n",
       "\n",
       "isbn     0 00 614494 2  0 7336 1053 6  0 75280 122 8  0 85550 000 x  \\\n",
       "user_id                                                               \n",
       "183                NaN            NaN            NaN            NaN   \n",
       "254                NaN            NaN            NaN            NaN   \n",
       "507                NaN            NaN            NaN            NaN   \n",
       "882                NaN            NaN            NaN            NaN   \n",
       "1424               NaN            NaN            NaN            NaN   \n",
       "\n",
       "isbn     0 907 062 008  ...  UNGRANDHOMMED  X000000000  YOUTELLEM,AND  \\\n",
       "user_id                 ...                                             \n",
       "183                NaN  ...            NaN         NaN            NaN   \n",
       "254                NaN  ...            NaN         NaN            NaN   \n",
       "507                NaN  ...            NaN         NaN            NaN   \n",
       "882                NaN  ...            NaN         NaN            NaN   \n",
       "1424               NaN  ...            NaN         NaN            NaN   \n",
       "\n",
       "isbn     Z380703475  ZR903CX0003  \\0432534220\\\"\"  \\2842053052\\\"\"  b00005wz75  \\\n",
       "user_id                                                                        \n",
       "183             NaN          NaN             NaN             NaN         NaN   \n",
       "254             NaN          NaN             NaN             NaN         NaN   \n",
       "507             NaN          NaN             NaN             NaN         NaN   \n",
       "882             NaN          NaN             NaN             NaN         NaN   \n",
       "1424            NaN          NaN             NaN             NaN         NaN   \n",
       "\n",
       "isbn     cn108465  cn113107  \n",
       "user_id                      \n",
       "183           NaN       NaN  \n",
       "254           NaN       NaN  \n",
       "507           NaN       NaN  \n",
       "882           NaN       NaN  \n",
       "1424          NaN       NaN  \n",
       "\n",
       "[5 rows x 228394 columns]"
      ]
     },
     "execution_count": 29,
     "metadata": {},
     "output_type": "execute_result"
    }
   ],
   "source": [
    "ratings_matrix = df1.reset_index().pivot_table(index='user_id', columns='isbn', values='rating')\n",
    "user_id = ratings_matrix.index\n",
    "isbn = ratings_matrix.columns\n",
    "print(ratings_matrix.shape)\n",
    "ratings_matrix.head()"
   ]
  },
  {
   "cell_type": "code",
   "execution_count": 32,
   "metadata": {},
   "outputs": [],
   "source": [
    "ratings_matrix = ratings_matrix.fillna(0)"
   ]
  },
  {
   "cell_type": "code",
   "execution_count": 28,
   "metadata": {},
   "outputs": [
    {
     "ename": "TypeError",
     "evalue": "unsupported operand type(s) for -: 'str' and 'int'",
     "output_type": "error",
     "traceback": [
      "\u001b[0;31m---------------------------------------------------------------------------\u001b[0m",
      "\u001b[0;31mTypeError\u001b[0m                                 Traceback (most recent call last)",
      "\u001b[0;32m<ipython-input-28-9d2c99fedc30>\u001b[0m in \u001b[0;36m<module>\u001b[0;34m\u001b[0m\n\u001b[1;32m      6\u001b[0m \u001b[0;34m\u001b[0m\u001b[0m\n\u001b[1;32m      7\u001b[0m \u001b[0;32mfor\u001b[0m \u001b[0mline\u001b[0m \u001b[0;32min\u001b[0m \u001b[0mdf1\u001b[0m\u001b[0;34m.\u001b[0m\u001b[0mitertuples\u001b[0m\u001b[0;34m(\u001b[0m\u001b[0;34m)\u001b[0m\u001b[0;34m:\u001b[0m\u001b[0;34m\u001b[0m\u001b[0;34m\u001b[0m\u001b[0m\n\u001b[0;32m----> 8\u001b[0;31m     \u001b[0mdata_matrix\u001b[0m\u001b[0;34m[\u001b[0m\u001b[0mline\u001b[0m\u001b[0;34m[\u001b[0m\u001b[0;36m0\u001b[0m\u001b[0;34m]\u001b[0m\u001b[0;34m-\u001b[0m\u001b[0;36m1\u001b[0m\u001b[0;34m,\u001b[0m \u001b[0mline\u001b[0m\u001b[0;34m[\u001b[0m\u001b[0;36m2\u001b[0m\u001b[0;34m]\u001b[0m\u001b[0;34m-\u001b[0m\u001b[0;36m1\u001b[0m\u001b[0;34m]\u001b[0m \u001b[0;34m=\u001b[0m \u001b[0mline\u001b[0m\u001b[0;34m[\u001b[0m\u001b[0;36m3\u001b[0m\u001b[0;34m]\u001b[0m\u001b[0;34m\u001b[0m\u001b[0;34m\u001b[0m\u001b[0m\n\u001b[0m",
      "\u001b[0;31mTypeError\u001b[0m: unsupported operand type(s) for -: 'str' and 'int'"
     ]
    }
   ],
   "source": [
    "n_users = df1.user_id.unique().shape[0]\n",
    "n_books = df1.isbn.unique().shape[0]\n",
    "# n_users_train, n_users_test, n_books_train, n_books_test = train_test_split(n_users, n_books, test_size=0.5)\n",
    "\n",
    "data_matrix = np.zeros((n_users, n_books))\n",
    "\n",
    "for line in df1.itertuples():\n",
    "    data_matrix[line[1]-1, line[2]-1] = line[3]"
   ]
  },
  {
   "cell_type": "code",
   "execution_count": 113,
   "metadata": {
    "scrolled": true
   },
   "outputs": [
    {
     "ename": "MemoryError",
     "evalue": "",
     "output_type": "error",
     "traceback": [
      "\u001b[0;31m---------------------------------------------------------------------------\u001b[0m",
      "\u001b[0;31mMemoryError\u001b[0m                               Traceback (most recent call last)",
      "\u001b[0;32m<ipython-input-113-b5fe50c206bf>\u001b[0m in \u001b[0;36m<module>\u001b[0;34m\u001b[0m\n\u001b[1;32m      1\u001b[0m \u001b[0;32mfrom\u001b[0m \u001b[0msklearn\u001b[0m\u001b[0;34m.\u001b[0m\u001b[0mmetrics\u001b[0m\u001b[0;34m.\u001b[0m\u001b[0mpairwise\u001b[0m \u001b[0;32mimport\u001b[0m \u001b[0mpairwise_distances\u001b[0m\u001b[0;34m\u001b[0m\u001b[0;34m\u001b[0m\u001b[0m\n\u001b[1;32m      2\u001b[0m \u001b[0;34m\u001b[0m\u001b[0m\n\u001b[0;32m----> 3\u001b[0;31m \u001b[0muser_similarity\u001b[0m \u001b[0;34m=\u001b[0m \u001b[0mpairwise_distances\u001b[0m\u001b[0;34m(\u001b[0m\u001b[0mratings_matrix\u001b[0m\u001b[0;34m,\u001b[0m \u001b[0mmetric\u001b[0m\u001b[0;34m=\u001b[0m\u001b[0;34m'cosine'\u001b[0m\u001b[0;34m)\u001b[0m\u001b[0;34m\u001b[0m\u001b[0;34m\u001b[0m\u001b[0m\n\u001b[0m\u001b[1;32m      4\u001b[0m \u001b[0mbook_similarity\u001b[0m \u001b[0;34m=\u001b[0m \u001b[0mpairwise_distances\u001b[0m\u001b[0;34m(\u001b[0m\u001b[0mratings_matrix\u001b[0m\u001b[0;34m.\u001b[0m\u001b[0mT\u001b[0m\u001b[0;34m,\u001b[0m \u001b[0mmetric\u001b[0m\u001b[0;34m=\u001b[0m\u001b[0;34m'cosine'\u001b[0m\u001b[0;34m)\u001b[0m\u001b[0;34m\u001b[0m\u001b[0;34m\u001b[0m\u001b[0m\n\u001b[1;32m      5\u001b[0m \u001b[0;34m\u001b[0m\u001b[0m\n",
      "\u001b[0;32m~/my_project_dir/my_project_env/lib/python3.6/site-packages/sklearn/metrics/pairwise.py\u001b[0m in \u001b[0;36mpairwise_distances\u001b[0;34m(X, Y, metric, n_jobs, **kwds)\u001b[0m\n\u001b[1;32m   1586\u001b[0m         \u001b[0mfunc\u001b[0m \u001b[0;34m=\u001b[0m \u001b[0mpartial\u001b[0m\u001b[0;34m(\u001b[0m\u001b[0mdistance\u001b[0m\u001b[0;34m.\u001b[0m\u001b[0mcdist\u001b[0m\u001b[0;34m,\u001b[0m \u001b[0mmetric\u001b[0m\u001b[0;34m=\u001b[0m\u001b[0mmetric\u001b[0m\u001b[0;34m,\u001b[0m \u001b[0;34m**\u001b[0m\u001b[0mkwds\u001b[0m\u001b[0;34m)\u001b[0m\u001b[0;34m\u001b[0m\u001b[0;34m\u001b[0m\u001b[0m\n\u001b[1;32m   1587\u001b[0m \u001b[0;34m\u001b[0m\u001b[0m\n\u001b[0;32m-> 1588\u001b[0;31m     \u001b[0;32mreturn\u001b[0m \u001b[0m_parallel_pairwise\u001b[0m\u001b[0;34m(\u001b[0m\u001b[0mX\u001b[0m\u001b[0;34m,\u001b[0m \u001b[0mY\u001b[0m\u001b[0;34m,\u001b[0m \u001b[0mfunc\u001b[0m\u001b[0;34m,\u001b[0m \u001b[0mn_jobs\u001b[0m\u001b[0;34m,\u001b[0m \u001b[0;34m**\u001b[0m\u001b[0mkwds\u001b[0m\u001b[0;34m)\u001b[0m\u001b[0;34m\u001b[0m\u001b[0;34m\u001b[0m\u001b[0m\n\u001b[0m\u001b[1;32m   1589\u001b[0m \u001b[0;34m\u001b[0m\u001b[0m\n\u001b[1;32m   1590\u001b[0m \u001b[0;34m\u001b[0m\u001b[0m\n",
      "\u001b[0;32m~/my_project_dir/my_project_env/lib/python3.6/site-packages/sklearn/metrics/pairwise.py\u001b[0m in \u001b[0;36m_parallel_pairwise\u001b[0;34m(X, Y, func, n_jobs, **kwds)\u001b[0m\n\u001b[1;32m   1204\u001b[0m \u001b[0;34m\u001b[0m\u001b[0m\n\u001b[1;32m   1205\u001b[0m     \u001b[0;32mif\u001b[0m \u001b[0meffective_n_jobs\u001b[0m\u001b[0;34m(\u001b[0m\u001b[0mn_jobs\u001b[0m\u001b[0;34m)\u001b[0m \u001b[0;34m==\u001b[0m \u001b[0;36m1\u001b[0m\u001b[0;34m:\u001b[0m\u001b[0;34m\u001b[0m\u001b[0;34m\u001b[0m\u001b[0m\n\u001b[0;32m-> 1206\u001b[0;31m         \u001b[0;32mreturn\u001b[0m \u001b[0mfunc\u001b[0m\u001b[0;34m(\u001b[0m\u001b[0mX\u001b[0m\u001b[0;34m,\u001b[0m \u001b[0mY\u001b[0m\u001b[0;34m,\u001b[0m \u001b[0;34m**\u001b[0m\u001b[0mkwds\u001b[0m\u001b[0;34m)\u001b[0m\u001b[0;34m\u001b[0m\u001b[0;34m\u001b[0m\u001b[0m\n\u001b[0m\u001b[1;32m   1207\u001b[0m \u001b[0;34m\u001b[0m\u001b[0m\n\u001b[1;32m   1208\u001b[0m     \u001b[0;31m# enforce a threading backend to prevent data communication overhead\u001b[0m\u001b[0;34m\u001b[0m\u001b[0;34m\u001b[0m\u001b[0;34m\u001b[0m\u001b[0m\n",
      "\u001b[0;32m~/my_project_dir/my_project_env/lib/python3.6/site-packages/sklearn/metrics/pairwise.py\u001b[0m in \u001b[0;36mcosine_distances\u001b[0;34m(X, Y)\u001b[0m\n\u001b[1;32m    679\u001b[0m     \"\"\"\n\u001b[1;32m    680\u001b[0m     \u001b[0;31m# 1.0 - cosine_similarity(X, Y) without copy\u001b[0m\u001b[0;34m\u001b[0m\u001b[0;34m\u001b[0m\u001b[0;34m\u001b[0m\u001b[0m\n\u001b[0;32m--> 681\u001b[0;31m     \u001b[0mS\u001b[0m \u001b[0;34m=\u001b[0m \u001b[0mcosine_similarity\u001b[0m\u001b[0;34m(\u001b[0m\u001b[0mX\u001b[0m\u001b[0;34m,\u001b[0m \u001b[0mY\u001b[0m\u001b[0;34m)\u001b[0m\u001b[0;34m\u001b[0m\u001b[0;34m\u001b[0m\u001b[0m\n\u001b[0m\u001b[1;32m    682\u001b[0m     \u001b[0mS\u001b[0m \u001b[0;34m*=\u001b[0m \u001b[0;34m-\u001b[0m\u001b[0;36m1\u001b[0m\u001b[0;34m\u001b[0m\u001b[0;34m\u001b[0m\u001b[0m\n\u001b[1;32m    683\u001b[0m     \u001b[0mS\u001b[0m \u001b[0;34m+=\u001b[0m \u001b[0;36m1\u001b[0m\u001b[0;34m\u001b[0m\u001b[0;34m\u001b[0m\u001b[0m\n",
      "\u001b[0;32m~/my_project_dir/my_project_env/lib/python3.6/site-packages/sklearn/metrics/pairwise.py\u001b[0m in \u001b[0;36mcosine_similarity\u001b[0;34m(X, Y, dense_output)\u001b[0m\n\u001b[1;32m   1027\u001b[0m     \u001b[0mX\u001b[0m\u001b[0;34m,\u001b[0m \u001b[0mY\u001b[0m \u001b[0;34m=\u001b[0m \u001b[0mcheck_pairwise_arrays\u001b[0m\u001b[0;34m(\u001b[0m\u001b[0mX\u001b[0m\u001b[0;34m,\u001b[0m \u001b[0mY\u001b[0m\u001b[0;34m)\u001b[0m\u001b[0;34m\u001b[0m\u001b[0;34m\u001b[0m\u001b[0m\n\u001b[1;32m   1028\u001b[0m \u001b[0;34m\u001b[0m\u001b[0m\n\u001b[0;32m-> 1029\u001b[0;31m     \u001b[0mX_normalized\u001b[0m \u001b[0;34m=\u001b[0m \u001b[0mnormalize\u001b[0m\u001b[0;34m(\u001b[0m\u001b[0mX\u001b[0m\u001b[0;34m,\u001b[0m \u001b[0mcopy\u001b[0m\u001b[0;34m=\u001b[0m\u001b[0;32mTrue\u001b[0m\u001b[0;34m)\u001b[0m\u001b[0;34m\u001b[0m\u001b[0;34m\u001b[0m\u001b[0m\n\u001b[0m\u001b[1;32m   1030\u001b[0m     \u001b[0;32mif\u001b[0m \u001b[0mX\u001b[0m \u001b[0;32mis\u001b[0m \u001b[0mY\u001b[0m\u001b[0;34m:\u001b[0m\u001b[0;34m\u001b[0m\u001b[0;34m\u001b[0m\u001b[0m\n\u001b[1;32m   1031\u001b[0m         \u001b[0mY_normalized\u001b[0m \u001b[0;34m=\u001b[0m \u001b[0mX_normalized\u001b[0m\u001b[0;34m\u001b[0m\u001b[0;34m\u001b[0m\u001b[0m\n",
      "\u001b[0;32m~/my_project_dir/my_project_env/lib/python3.6/site-packages/sklearn/preprocessing/data.py\u001b[0m in \u001b[0;36mnormalize\u001b[0;34m(X, norm, axis, copy, return_norm)\u001b[0m\n\u001b[1;32m   1612\u001b[0m \u001b[0;34m\u001b[0m\u001b[0m\n\u001b[1;32m   1613\u001b[0m     X = check_array(X, sparse_format, copy=copy,\n\u001b[0;32m-> 1614\u001b[0;31m                     estimator='the normalize function', dtype=FLOAT_DTYPES)\n\u001b[0m\u001b[1;32m   1615\u001b[0m     \u001b[0;32mif\u001b[0m \u001b[0maxis\u001b[0m \u001b[0;34m==\u001b[0m \u001b[0;36m0\u001b[0m\u001b[0;34m:\u001b[0m\u001b[0;34m\u001b[0m\u001b[0;34m\u001b[0m\u001b[0m\n\u001b[1;32m   1616\u001b[0m         \u001b[0mX\u001b[0m \u001b[0;34m=\u001b[0m \u001b[0mX\u001b[0m\u001b[0;34m.\u001b[0m\u001b[0mT\u001b[0m\u001b[0;34m\u001b[0m\u001b[0;34m\u001b[0m\u001b[0m\n",
      "\u001b[0;32m~/my_project_dir/my_project_env/lib/python3.6/site-packages/sklearn/utils/validation.py\u001b[0m in \u001b[0;36mcheck_array\u001b[0;34m(array, accept_sparse, accept_large_sparse, dtype, order, copy, force_all_finite, ensure_2d, allow_nd, ensure_min_samples, ensure_min_features, warn_on_dtype, estimator)\u001b[0m\n\u001b[1;32m    564\u001b[0m \u001b[0;34m\u001b[0m\u001b[0m\n\u001b[1;32m    565\u001b[0m     \u001b[0;32mif\u001b[0m \u001b[0mcopy\u001b[0m \u001b[0;32mand\u001b[0m \u001b[0mnp\u001b[0m\u001b[0;34m.\u001b[0m\u001b[0mmay_share_memory\u001b[0m\u001b[0;34m(\u001b[0m\u001b[0marray\u001b[0m\u001b[0;34m,\u001b[0m \u001b[0marray_orig\u001b[0m\u001b[0;34m)\u001b[0m\u001b[0;34m:\u001b[0m\u001b[0;34m\u001b[0m\u001b[0;34m\u001b[0m\u001b[0m\n\u001b[0;32m--> 566\u001b[0;31m         \u001b[0marray\u001b[0m \u001b[0;34m=\u001b[0m \u001b[0mnp\u001b[0m\u001b[0;34m.\u001b[0m\u001b[0marray\u001b[0m\u001b[0;34m(\u001b[0m\u001b[0marray\u001b[0m\u001b[0;34m,\u001b[0m \u001b[0mdtype\u001b[0m\u001b[0;34m=\u001b[0m\u001b[0mdtype\u001b[0m\u001b[0;34m,\u001b[0m \u001b[0morder\u001b[0m\u001b[0;34m=\u001b[0m\u001b[0morder\u001b[0m\u001b[0;34m)\u001b[0m\u001b[0;34m\u001b[0m\u001b[0;34m\u001b[0m\u001b[0m\n\u001b[0m\u001b[1;32m    567\u001b[0m \u001b[0;34m\u001b[0m\u001b[0m\n\u001b[1;32m    568\u001b[0m     if (warn_on_dtype and dtypes_orig is not None and\n",
      "\u001b[0;31mMemoryError\u001b[0m: "
     ]
    }
   ],
   "source": [
    "from sklearn.metrics.pairwise import pairwise_distances \n",
    "\n",
    "user_similarity = pairwise_distances(ratings_matrix, metric='cosine')\n",
    "book_similarity = pairwise_distances(ratings_matrix.T, metric='cosine')\n",
    "\n",
    "def predict(ratings, similarity, type='user'):\n",
    "    if type == 'user':\n",
    "        mean_user_rating = ratings.mean(axis=1)\n",
    "        #We use np.newaxis so that mean_user_rating has same format as ratings\n",
    "        ratings_diff = (ratings - mean_user_rating[:, np.newaxis])\n",
    "        pred = mean_user_rating[:, np.newaxis] + similarity.dot(ratings_diff) / np.array([np.abs(similarity).sum(axis=1)]).T\n",
    "    elif type == 'book':\n",
    "        pred = ratings.dot(similarity) / np.array([np.abs(similarity).sum(axis=1)])\n",
    "    return pred\n",
    "\n",
    "user_prediction = predict(ratings_matrix, user_similarity, type='user')\n",
    "book_prediction = predict(ratings_matrix, book_similarity, type='book')"
   ]
  },
  {
   "cell_type": "code",
   "execution_count": 26,
   "metadata": {},
   "outputs": [],
   "source": [
    "from sklearn.model_selection import train_test_split\n",
    "from sklearn.metrics import accuracy_score\n",
    "ratings_train, ratings_test = train_test_split(df1, test_size=0.33, random_state=42)"
   ]
  },
  {
   "cell_type": "code",
   "execution_count": 27,
   "metadata": {},
   "outputs": [],
   "source": [
    "train_data = turicreate.SFrame(ratings_train)\n",
    "test_data = turicreate.SFrame(ratings_test)"
   ]
  },
  {
   "cell_type": "code",
   "execution_count": 28,
   "metadata": {},
   "outputs": [
    {
     "data": {
      "text/html": [
       "<pre>Preparing data set.</pre>"
      ],
      "text/plain": [
       "Preparing data set."
      ]
     },
     "metadata": {},
     "output_type": "display_data"
    },
    {
     "data": {
      "text/html": [
       "<pre>    Data has 404556 observations with 1684 users and 176319 items.</pre>"
      ],
      "text/plain": [
       "    Data has 404556 observations with 1684 users and 176319 items."
      ]
     },
     "metadata": {},
     "output_type": "display_data"
    },
    {
     "data": {
      "text/html": [
       "<pre>    Data prepared in: 0.466199s</pre>"
      ],
      "text/plain": [
       "    Data prepared in: 0.466199s"
      ]
     },
     "metadata": {},
     "output_type": "display_data"
    },
    {
     "data": {
      "text/html": [
       "<pre>404556 observations to process; with 176319 unique items.</pre>"
      ],
      "text/plain": [
       "404556 observations to process; with 176319 unique items."
      ]
     },
     "metadata": {},
     "output_type": "display_data"
    }
   ],
   "source": [
    "popularity_model = turicreate.popularity_recommender.create(train_data, user_id='user_id', item_id='isbn', target='rating')"
   ]
  },
  {
   "cell_type": "code",
   "execution_count": 29,
   "metadata": {},
   "outputs": [
    {
     "name": "stdout",
     "output_type": "stream",
     "text": [
      "+---------+------------+-------+------+\n",
      "| user_id |    isbn    | score | rank |\n",
      "+---------+------------+-------+------+\n",
      "|    1    | 935696229  |  10.0 |  1   |\n",
      "|    1    | 140195408  |  10.0 |  2   |\n",
      "|    1    | 3765309915 |  10.0 |  3   |\n",
      "|    1    | 809423022  |  10.0 |  4   |\n",
      "|    1    | 373160585  |  10.0 |  5   |\n",
      "|    2    | 935696229  |  10.0 |  1   |\n",
      "|    2    | 140195408  |  10.0 |  2   |\n",
      "|    2    | 3765309915 |  10.0 |  3   |\n",
      "|    2    | 809423022  |  10.0 |  4   |\n",
      "|    2    | 373160585  |  10.0 |  5   |\n",
      "|    3    | 935696229  |  10.0 |  1   |\n",
      "|    3    | 140195408  |  10.0 |  2   |\n",
      "|    3    | 3765309915 |  10.0 |  3   |\n",
      "|    3    | 809423022  |  10.0 |  4   |\n",
      "|    3    | 373160585  |  10.0 |  5   |\n",
      "|    4    | 935696229  |  10.0 |  1   |\n",
      "|    4    | 140195408  |  10.0 |  2   |\n",
      "|    4    | 3765309915 |  10.0 |  3   |\n",
      "|    4    | 809423022  |  10.0 |  4   |\n",
      "|    4    | 373160585  |  10.0 |  5   |\n",
      "|    5    | 935696229  |  10.0 |  1   |\n",
      "|    5    | 140195408  |  10.0 |  2   |\n",
      "|    5    | 3765309915 |  10.0 |  3   |\n",
      "|    5    | 809423022  |  10.0 |  4   |\n",
      "|    5    | 373160585  |  10.0 |  5   |\n",
      "+---------+------------+-------+------+\n",
      "[25 rows x 4 columns]\n",
      "\n"
     ]
    }
   ],
   "source": [
    "popularity_recomm = popularity_model.recommend(users=[1,2,3,4,5],k=5)\n",
    "popularity_recomm.print_rows(num_rows=25)"
   ]
  },
  {
   "cell_type": "code",
   "execution_count": 30,
   "metadata": {
    "scrolled": true
   },
   "outputs": [
    {
     "data": {
      "text/html": [
       "<pre>Preparing data set.</pre>"
      ],
      "text/plain": [
       "Preparing data set."
      ]
     },
     "metadata": {},
     "output_type": "display_data"
    },
    {
     "data": {
      "text/html": [
       "<pre>    Data has 404556 observations with 1684 users and 176319 items.</pre>"
      ],
      "text/plain": [
       "    Data has 404556 observations with 1684 users and 176319 items."
      ]
     },
     "metadata": {},
     "output_type": "display_data"
    },
    {
     "data": {
      "text/html": [
       "<pre>    Data prepared in: 0.454606s</pre>"
      ],
      "text/plain": [
       "    Data prepared in: 0.454606s"
      ]
     },
     "metadata": {},
     "output_type": "display_data"
    },
    {
     "data": {
      "text/html": [
       "<pre>Training model from provided data.</pre>"
      ],
      "text/plain": [
       "Training model from provided data."
      ]
     },
     "metadata": {},
     "output_type": "display_data"
    },
    {
     "data": {
      "text/html": [
       "<pre>Gathering per-item and per-user statistics.</pre>"
      ],
      "text/plain": [
       "Gathering per-item and per-user statistics."
      ]
     },
     "metadata": {},
     "output_type": "display_data"
    },
    {
     "data": {
      "text/html": [
       "<pre>+--------------------------------+------------+</pre>"
      ],
      "text/plain": [
       "+--------------------------------+------------+"
      ]
     },
     "metadata": {},
     "output_type": "display_data"
    },
    {
     "data": {
      "text/html": [
       "<pre>| Elapsed Time (Item Statistics) | % Complete |</pre>"
      ],
      "text/plain": [
       "| Elapsed Time (Item Statistics) | % Complete |"
      ]
     },
     "metadata": {},
     "output_type": "display_data"
    },
    {
     "data": {
      "text/html": [
       "<pre>+--------------------------------+------------+</pre>"
      ],
      "text/plain": [
       "+--------------------------------+------------+"
      ]
     },
     "metadata": {},
     "output_type": "display_data"
    },
    {
     "data": {
      "text/html": [
       "<pre>| 41.905ms                       | 59.25      |</pre>"
      ],
      "text/plain": [
       "| 41.905ms                       | 59.25      |"
      ]
     },
     "metadata": {},
     "output_type": "display_data"
    },
    {
     "data": {
      "text/html": [
       "<pre>| 52.556ms                       | 100        |</pre>"
      ],
      "text/plain": [
       "| 52.556ms                       | 100        |"
      ]
     },
     "metadata": {},
     "output_type": "display_data"
    },
    {
     "data": {
      "text/html": [
       "<pre>+--------------------------------+------------+</pre>"
      ],
      "text/plain": [
       "+--------------------------------+------------+"
      ]
     },
     "metadata": {},
     "output_type": "display_data"
    },
    {
     "data": {
      "text/html": [
       "<pre>Setting up lookup tables.</pre>"
      ],
      "text/plain": [
       "Setting up lookup tables."
      ]
     },
     "metadata": {},
     "output_type": "display_data"
    },
    {
     "data": {
      "text/html": [
       "<pre>Processing the 279 most common items by brute force search.</pre>"
      ],
      "text/plain": [
       "Processing the 279 most common items by brute force search."
      ]
     },
     "metadata": {},
     "output_type": "display_data"
    },
    {
     "data": {
      "text/html": [
       "<pre>Transposing user-item lists for use in nearest neighbor search.</pre>"
      ],
      "text/plain": [
       "Transposing user-item lists for use in nearest neighbor search."
      ]
     },
     "metadata": {},
     "output_type": "display_data"
    },
    {
     "data": {
      "text/html": [
       "<pre>+------------------------------------+------------+</pre>"
      ],
      "text/plain": [
       "+------------------------------------+------------+"
      ]
     },
     "metadata": {},
     "output_type": "display_data"
    },
    {
     "data": {
      "text/html": [
       "<pre>| Elapsed Time (Data Transposition)) | % Complete |</pre>"
      ],
      "text/plain": [
       "| Elapsed Time (Data Transposition)) | % Complete |"
      ]
     },
     "metadata": {},
     "output_type": "display_data"
    },
    {
     "data": {
      "text/html": [
       "<pre>+------------------------------------+------------+</pre>"
      ],
      "text/plain": [
       "+------------------------------------+------------+"
      ]
     },
     "metadata": {},
     "output_type": "display_data"
    },
    {
     "data": {
      "text/html": [
       "<pre>| 3.075ms                            | 0          |</pre>"
      ],
      "text/plain": [
       "| 3.075ms                            | 0          |"
      ]
     },
     "metadata": {},
     "output_type": "display_data"
    },
    {
     "data": {
      "text/html": [
       "<pre>| 151.83ms                           | 100        |</pre>"
      ],
      "text/plain": [
       "| 151.83ms                           | 100        |"
      ]
     },
     "metadata": {},
     "output_type": "display_data"
    },
    {
     "data": {
      "text/html": [
       "<pre>+------------------------------------+------------+</pre>"
      ],
      "text/plain": [
       "+------------------------------------+------------+"
      ]
     },
     "metadata": {},
     "output_type": "display_data"
    },
    {
     "data": {
      "text/html": [
       "<pre>+-------------------------------------+------------------+-----------------+</pre>"
      ],
      "text/plain": [
       "+-------------------------------------+------------------+-----------------+"
      ]
     },
     "metadata": {},
     "output_type": "display_data"
    },
    {
     "data": {
      "text/html": [
       "<pre>| Elapsed Time (Constructing Lookups) | Total % Complete | Items Processed |</pre>"
      ],
      "text/plain": [
       "| Elapsed Time (Constructing Lookups) | Total % Complete | Items Processed |"
      ]
     },
     "metadata": {},
     "output_type": "display_data"
    },
    {
     "data": {
      "text/html": [
       "<pre>+-------------------------------------+------------------+-----------------+</pre>"
      ],
      "text/plain": [
       "+-------------------------------------+------------------+-----------------+"
      ]
     },
     "metadata": {},
     "output_type": "display_data"
    },
    {
     "data": {
      "text/html": [
       "<pre>| 361.601ms                           | 0                | 0               |</pre>"
      ],
      "text/plain": [
       "| 361.601ms                           | 0                | 0               |"
      ]
     },
     "metadata": {},
     "output_type": "display_data"
    },
    {
     "data": {
      "text/html": [
       "<pre>| 3.36s                               | 0                | 260             |</pre>"
      ],
      "text/plain": [
       "| 3.36s                               | 0                | 260             |"
      ]
     },
     "metadata": {},
     "output_type": "display_data"
    },
    {
     "data": {
      "text/html": [
       "<pre>+-------------------------------------+------------------+-----------------+</pre>"
      ],
      "text/plain": [
       "+-------------------------------------+------------------+-----------------+"
      ]
     },
     "metadata": {},
     "output_type": "display_data"
    },
    {
     "data": {
      "text/html": [
       "<pre>Processing data in one pass using sparse lookup tables.</pre>"
      ],
      "text/plain": [
       "Processing data in one pass using sparse lookup tables."
      ]
     },
     "metadata": {},
     "output_type": "display_data"
    },
    {
     "data": {
      "text/html": [
       "<pre>+-------------------------------------+------------------+-----------------+</pre>"
      ],
      "text/plain": [
       "+-------------------------------------+------------------+-----------------+"
      ]
     },
     "metadata": {},
     "output_type": "display_data"
    },
    {
     "data": {
      "text/html": [
       "<pre>| Elapsed Time (Constructing Lookups) | Total % Complete | Items Processed |</pre>"
      ],
      "text/plain": [
       "| Elapsed Time (Constructing Lookups) | Total % Complete | Items Processed |"
      ]
     },
     "metadata": {},
     "output_type": "display_data"
    },
    {
     "data": {
      "text/html": [
       "<pre>+-------------------------------------+------------------+-----------------+</pre>"
      ],
      "text/plain": [
       "+-------------------------------------+------------------+-----------------+"
      ]
     },
     "metadata": {},
     "output_type": "display_data"
    },
    {
     "data": {
      "text/html": [
       "<pre>| 6.38s                               | 31.5             | 55635           |</pre>"
      ],
      "text/plain": [
       "| 6.38s                               | 31.5             | 55635           |"
      ]
     },
     "metadata": {},
     "output_type": "display_data"
    },
    {
     "data": {
      "text/html": [
       "<pre>| 9.40s                               | 47.5             | 84092           |</pre>"
      ],
      "text/plain": [
       "| 9.40s                               | 47.5             | 84092           |"
      ]
     },
     "metadata": {},
     "output_type": "display_data"
    },
    {
     "data": {
      "text/html": [
       "<pre>| 12.38s                              | 60               | 106120          |</pre>"
      ],
      "text/plain": [
       "| 12.38s                              | 60               | 106120          |"
      ]
     },
     "metadata": {},
     "output_type": "display_data"
    },
    {
     "data": {
      "text/html": [
       "<pre>| 15.44s                              | 79.75            | 140866          |</pre>"
      ],
      "text/plain": [
       "| 15.44s                              | 79.75            | 140866          |"
      ]
     },
     "metadata": {},
     "output_type": "display_data"
    },
    {
     "data": {
      "text/html": [
       "<pre>| 18.36s                              | 91.25            | 161226          |</pre>"
      ],
      "text/plain": [
       "| 18.36s                              | 91.25            | 161226          |"
      ]
     },
     "metadata": {},
     "output_type": "display_data"
    },
    {
     "data": {
      "text/html": [
       "<pre>| 32.93s                              | 100              | 176319          |</pre>"
      ],
      "text/plain": [
       "| 32.93s                              | 100              | 176319          |"
      ]
     },
     "metadata": {},
     "output_type": "display_data"
    },
    {
     "data": {
      "text/html": [
       "<pre>+-------------------------------------+------------------+-----------------+</pre>"
      ],
      "text/plain": [
       "+-------------------------------------+------------------+-----------------+"
      ]
     },
     "metadata": {},
     "output_type": "display_data"
    },
    {
     "data": {
      "text/html": [
       "<pre>Finalizing lookup tables.</pre>"
      ],
      "text/plain": [
       "Finalizing lookup tables."
      ]
     },
     "metadata": {},
     "output_type": "display_data"
    },
    {
     "data": {
      "text/html": [
       "<pre>Generating candidate set for working with new users.</pre>"
      ],
      "text/plain": [
       "Generating candidate set for working with new users."
      ]
     },
     "metadata": {},
     "output_type": "display_data"
    },
    {
     "data": {
      "text/html": [
       "<pre>Finished training in 34.1756s</pre>"
      ],
      "text/plain": [
       "Finished training in 34.1756s"
      ]
     },
     "metadata": {},
     "output_type": "display_data"
    }
   ],
   "source": [
    "#Training the model\n",
    "item_sim_model = turicreate.item_similarity_recommender.create(train_data, user_id='user_id', item_id='isbn', target='rating', similarity_type='cosine')"
   ]
  },
  {
   "cell_type": "code",
   "execution_count": 50,
   "metadata": {},
   "outputs": [
    {
     "data": {
      "text/plain": [
       "[183,\n",
       " 254,\n",
       " 507,\n",
       " 882,\n",
       " 1424,\n",
       " 1435,\n",
       " 1733,\n",
       " 1903,\n",
       " 2033,\n",
       " 2110,\n",
       " 2276,\n",
       " 2358,\n",
       " 2442,\n",
       " 2766,\n",
       " 2891,\n",
       " 2977,\n",
       " 3363,\n",
       " 3371,\n",
       " 3757,\n",
       " 3827,\n",
       " 4017,\n",
       " 4157,\n",
       " 4385,\n",
       " 5582,\n",
       " 5903,\n",
       " 6242,\n",
       " 6251,\n",
       " 6323,\n",
       " 6543,\n",
       " 6563,\n",
       " 6575,\n",
       " 6703,\n",
       " 7105,\n",
       " 7125,\n",
       " 7158,\n",
       " 7286,\n",
       " 7346,\n",
       " 7915,\n",
       " 8066,\n",
       " 8067,\n",
       " 8245,\n",
       " 8253,\n",
       " 8284,\n",
       " 8362,\n",
       " 8454,\n",
       " 8487,\n",
       " 8681,\n",
       " 8782,\n",
       " 8890,\n",
       " 8936,\n",
       " 8971,\n",
       " 9141,\n",
       " 9417,\n",
       " 9747,\n",
       " 9856,\n",
       " 9908,\n",
       " 10030,\n",
       " 10314,\n",
       " 10354,\n",
       " 10447,\n",
       " 10560,\n",
       " 10819,\n",
       " 11120,\n",
       " 11601,\n",
       " 11629,\n",
       " 11676,\n",
       " 11724,\n",
       " 11993,\n",
       " 12538,\n",
       " 12657,\n",
       " 12824,\n",
       " 12835,\n",
       " 12982,\n",
       " 13082,\n",
       " 13093,\n",
       " 13273,\n",
       " 13540,\n",
       " 13552,\n",
       " 13582,\n",
       " 13850,\n",
       " 13935,\n",
       " 13995,\n",
       " 14079,\n",
       " 14232,\n",
       " 14387,\n",
       " 14422,\n",
       " 14456,\n",
       " 14521,\n",
       " 14638,\n",
       " 14698,\n",
       " 14958,\n",
       " 15408,\n",
       " 15418,\n",
       " 15957,\n",
       " 16106,\n",
       " 16155,\n",
       " 16161,\n",
       " 16413,\n",
       " 16488,\n",
       " 16601,\n",
       " 16634,\n",
       " 16721,\n",
       " 16795,\n",
       " 16916,\n",
       " 16943,\n",
       " 16966,\n",
       " 17190,\n",
       " 17282,\n",
       " 17507,\n",
       " 17859,\n",
       " 17950,\n",
       " 18067,\n",
       " 18082,\n",
       " 18172,\n",
       " 18401,\n",
       " 19085,\n",
       " 19664,\n",
       " 19711,\n",
       " 19842,\n",
       " 20060,\n",
       " 20115,\n",
       " 20119,\n",
       " 20201,\n",
       " 20859,\n",
       " 21014,\n",
       " 21031,\n",
       " 21252,\n",
       " 21364,\n",
       " 21404,\n",
       " 21576,\n",
       " 21659,\n",
       " 22625,\n",
       " 23288,\n",
       " 23511,\n",
       " 23571,\n",
       " 23680,\n",
       " 23768,\n",
       " 23872,\n",
       " 23902,\n",
       " 24194,\n",
       " 24433,\n",
       " 24539,\n",
       " 24921,\n",
       " 24945,\n",
       " 25131,\n",
       " 25409,\n",
       " 25436,\n",
       " 25533,\n",
       " 25601,\n",
       " 25981,\n",
       " 26084,\n",
       " 26443,\n",
       " 26516,\n",
       " 26535,\n",
       " 26544,\n",
       " 26583,\n",
       " 26593,\n",
       " 26621,\n",
       " 26813,\n",
       " 26883,\n",
       " 27140,\n",
       " 27169,\n",
       " 27462,\n",
       " 27472,\n",
       " 27617,\n",
       " 27647,\n",
       " 27788,\n",
       " 27812,\n",
       " 28204,\n",
       " 28360,\n",
       " 28523,\n",
       " 28537,\n",
       " 28591,\n",
       " 28619,\n",
       " 28634,\n",
       " 28666,\n",
       " 28938,\n",
       " 29117,\n",
       " 29209,\n",
       " 29259,\n",
       " 29526,\n",
       " 29855,\n",
       " 29915,\n",
       " 30072,\n",
       " 30261,\n",
       " 30273,\n",
       " 30276,\n",
       " 30487,\n",
       " 30509,\n",
       " 30511,\n",
       " 30533,\n",
       " 30711,\n",
       " 30712,\n",
       " 30716,\n",
       " 30735,\n",
       " 30806,\n",
       " 30810,\n",
       " 30824,\n",
       " 30972,\n",
       " 31040,\n",
       " 31226,\n",
       " 31308,\n",
       " 31315,\n",
       " 31391,\n",
       " 31466,\n",
       " 31556,\n",
       " 31611,\n",
       " 31826,\n",
       " 31846,\n",
       " 31919,\n",
       " 32122,\n",
       " 32195,\n",
       " 32440,\n",
       " 32627,\n",
       " 32721,\n",
       " 32773,\n",
       " 33145,\n",
       " 33319,\n",
       " 33580,\n",
       " 33818,\n",
       " 33888,\n",
       " 33943,\n",
       " 33974,\n",
       " 34300,\n",
       " 34588,\n",
       " 35050,\n",
       " 35407,\n",
       " 35433,\n",
       " 35718,\n",
       " 35836,\n",
       " 35857,\n",
       " 35859,\n",
       " 36003,\n",
       " 36256,\n",
       " 36299,\n",
       " 36327,\n",
       " 36554,\n",
       " 36606,\n",
       " 36609,\n",
       " 36715,\n",
       " 36836,\n",
       " 36907,\n",
       " 37019,\n",
       " 37208,\n",
       " 37293,\n",
       " 37493,\n",
       " 37538,\n",
       " 37567,\n",
       " 37644,\n",
       " 37712,\n",
       " 37950,\n",
       " 38023,\n",
       " 38273,\n",
       " 38281,\n",
       " 38464,\n",
       " 38556,\n",
       " 38589,\n",
       " 38781,\n",
       " 38802,\n",
       " 39281,\n",
       " 39345,\n",
       " 39396,\n",
       " 39467,\n",
       " 39502,\n",
       " 39616,\n",
       " 39646,\n",
       " 39773,\n",
       " 40012,\n",
       " 40415,\n",
       " 40553,\n",
       " 40647,\n",
       " 40889,\n",
       " 40943,\n",
       " 41084,\n",
       " 41227,\n",
       " 41455,\n",
       " 41700,\n",
       " 41757,\n",
       " 41781,\n",
       " 41841,\n",
       " 42093,\n",
       " 42400,\n",
       " 42718,\n",
       " 42914,\n",
       " 43021,\n",
       " 43246,\n",
       " 43619,\n",
       " 43687,\n",
       " 43806,\n",
       " 43842,\n",
       " 43910,\n",
       " 44089,\n",
       " 44296,\n",
       " 44595,\n",
       " 44728,\n",
       " 44845,\n",
       " 44893,\n",
       " 44925,\n",
       " 45557,\n",
       " 46269,\n",
       " 46351,\n",
       " 46398,\n",
       " 46443,\n",
       " 46909,\n",
       " 47316,\n",
       " 47609,\n",
       " 47971,\n",
       " 48025,\n",
       " 48046,\n",
       " 48355,\n",
       " 48494,\n",
       " 48975,\n",
       " 49109,\n",
       " 49144,\n",
       " 49154,\n",
       " 49212,\n",
       " 49422,\n",
       " 49460,\n",
       " 49889,\n",
       " 50225,\n",
       " 50547,\n",
       " 50730,\n",
       " 50849,\n",
       " 50895,\n",
       " 51094,\n",
       " 51350,\n",
       " 51386,\n",
       " 51450,\n",
       " 51526,\n",
       " 51742,\n",
       " 51883,\n",
       " 52002,\n",
       " 52044,\n",
       " 52199,\n",
       " 52203,\n",
       " 52350,\n",
       " 52584,\n",
       " 52614,\n",
       " 52853,\n",
       " 52917,\n",
       " 53174,\n",
       " 53220,\n",
       " 53392,\n",
       " 53456,\n",
       " 53614,\n",
       " 53628,\n",
       " 53729,\n",
       " 54206,\n",
       " 54218,\n",
       " 54622,\n",
       " 54828,\n",
       " 54898,\n",
       " 55075,\n",
       " 55178,\n",
       " 55187,\n",
       " 55438,\n",
       " 55490,\n",
       " 55492,\n",
       " 55493,\n",
       " 55548,\n",
       " 55734,\n",
       " 55858,\n",
       " 55892,\n",
       " 55927,\n",
       " 56039,\n",
       " 56271,\n",
       " 56360,\n",
       " 56399,\n",
       " 56447,\n",
       " 56554,\n",
       " 56856,\n",
       " 56959,\n",
       " 57006,\n",
       " 57108,\n",
       " 57449,\n",
       " 57725,\n",
       " 58067,\n",
       " 58363,\n",
       " 58911,\n",
       " 59038,\n",
       " 59150,\n",
       " 59172,\n",
       " 59189,\n",
       " 59269,\n",
       " 59390,\n",
       " 59727,\n",
       " 59971,\n",
       " 60098,\n",
       " 60244,\n",
       " 60277,\n",
       " 60319,\n",
       " 60337,\n",
       " 60569,\n",
       " 60707,\n",
       " 60797,\n",
       " 60858,\n",
       " 61028,\n",
       " 61147,\n",
       " 61427,\n",
       " 61619,\n",
       " 61667,\n",
       " 61901,\n",
       " 62009,\n",
       " 62239,\n",
       " 62272,\n",
       " 62755,\n",
       " 62862,\n",
       " 62881,\n",
       " 62891,\n",
       " 62895,\n",
       " 63394,\n",
       " 63595,\n",
       " 63714,\n",
       " 63938,\n",
       " 63956,\n",
       " 64015,\n",
       " 64241,\n",
       " 64436,\n",
       " 64440,\n",
       " 65258,\n",
       " 65584,\n",
       " 65663,\n",
       " 66385,\n",
       " 66483,\n",
       " 66680,\n",
       " 66942,\n",
       " 67079,\n",
       " 67403,\n",
       " 67547,\n",
       " 67663,\n",
       " 67840,\n",
       " 67930,\n",
       " 68156,\n",
       " 68185,\n",
       " 68249,\n",
       " 68555,\n",
       " 69042,\n",
       " 69078,\n",
       " 69211,\n",
       " 69232,\n",
       " 69355,\n",
       " 69378,\n",
       " 69389,\n",
       " 69405,\n",
       " 69684,\n",
       " 69697,\n",
       " 69721,\n",
       " 69808,\n",
       " 69971,\n",
       " 70052,\n",
       " 70065,\n",
       " 70183,\n",
       " 70222,\n",
       " 70415,\n",
       " 70585,\n",
       " 70594,\n",
       " 70666,\n",
       " 70999,\n",
       " 71470,\n",
       " 71568,\n",
       " 71612,\n",
       " 71712,\n",
       " 71739,\n",
       " 72214,\n",
       " 72352,\n",
       " 72451,\n",
       " 72992,\n",
       " 73196,\n",
       " 73394,\n",
       " 73651,\n",
       " 73681,\n",
       " 73923,\n",
       " 74709,\n",
       " 75081,\n",
       " 75115,\n",
       " 75591,\n",
       " 75595,\n",
       " 75819,\n",
       " 75860,\n",
       " 76151,\n",
       " 76223,\n",
       " 76352,\n",
       " 76482,\n",
       " 76483,\n",
       " 76499,\n",
       " 76626,\n",
       " 76818,\n",
       " 76942,\n",
       " 77181,\n",
       " 77270,\n",
       " 77383,\n",
       " 77480,\n",
       " 77809,\n",
       " 77940,\n",
       " 78448,\n",
       " 78553,\n",
       " 78783,\n",
       " 78834,\n",
       " 78846,\n",
       " 78941,\n",
       " 78973,\n",
       " 79186,\n",
       " 79441,\n",
       " 79556,\n",
       " 79942,\n",
       " 80453,\n",
       " 80538,\n",
       " 80555,\n",
       " 80683,\n",
       " 80810,\n",
       " 80908,\n",
       " 80945,\n",
       " 81045,\n",
       " 81128,\n",
       " 81207,\n",
       " 81274,\n",
       " 81368,\n",
       " 81492,\n",
       " 81560,\n",
       " 81597,\n",
       " 81609,\n",
       " 81682,\n",
       " 81771,\n",
       " 81848,\n",
       " 81977,\n",
       " 82164,\n",
       " 82407,\n",
       " 82511,\n",
       " 82831,\n",
       " 82893,\n",
       " 82926,\n",
       " 83109,\n",
       " 83287,\n",
       " 83637,\n",
       " 83671,\n",
       " 83707,\n",
       " 84024,\n",
       " 84716,\n",
       " 84831,\n",
       " 85426,\n",
       " 85526,\n",
       " 85656,\n",
       " 85701,\n",
       " 85757,\n",
       " 85993,\n",
       " 86033,\n",
       " 86145,\n",
       " 86189,\n",
       " 86202,\n",
       " 86243,\n",
       " 86392,\n",
       " 86641,\n",
       " 86835,\n",
       " 86947,\n",
       " 87141,\n",
       " 87143,\n",
       " 87555,\n",
       " 87712,\n",
       " 87746,\n",
       " 87974,\n",
       " 88122,\n",
       " 88283,\n",
       " 88652,\n",
       " 88677,\n",
       " 88693,\n",
       " 88733,\n",
       " 88793,\n",
       " 88937,\n",
       " 89014,\n",
       " 89192,\n",
       " 89307,\n",
       " 89551,\n",
       " 89602,\n",
       " 89867,\n",
       " 89891,\n",
       " 90232,\n",
       " 90766,\n",
       " 91026,\n",
       " 91113,\n",
       " 91203,\n",
       " 91266,\n",
       " 91342,\n",
       " 91832,\n",
       " 91931,\n",
       " 92405,\n",
       " 92547,\n",
       " 92652,\n",
       " 92810,\n",
       " 92853,\n",
       " 92861,\n",
       " 92979,\n",
       " 93047,\n",
       " 93085,\n",
       " 93092,\n",
       " 93147,\n",
       " 93179,\n",
       " 93363,\n",
       " 93426,\n",
       " 93629,\n",
       " 94242,\n",
       " 94347,\n",
       " 94853,\n",
       " 94923,\n",
       " 94951,\n",
       " 94985,\n",
       " 95010,\n",
       " 95193,\n",
       " 95316,\n",
       " 95359,\n",
       " 95902,\n",
       " 95903,\n",
       " 95923,\n",
       " 95932,\n",
       " 95991,\n",
       " 96054,\n",
       " 96440,\n",
       " 96448,\n",
       " 96475,\n",
       " 96554,\n",
       " 96771,\n",
       " 96776,\n",
       " 97160,\n",
       " 97324,\n",
       " 97598,\n",
       " 97754,\n",
       " 97874,\n",
       " 98297,\n",
       " 98356,\n",
       " 98391,\n",
       " 98440,\n",
       " 98499,\n",
       " 98547,\n",
       " 98647,\n",
       " 98686,\n",
       " 98723,\n",
       " 98741,\n",
       " 98758,\n",
       " 98787,\n",
       " 98904,\n",
       " 99227,\n",
       " 99441,\n",
       " 99955,\n",
       " 100088,\n",
       " 100264,\n",
       " 100459,\n",
       " 100578,\n",
       " 100644,\n",
       " 100782,\n",
       " 100822,\n",
       " 100846,\n",
       " 100906,\n",
       " 101209,\n",
       " 101305,\n",
       " 101550,\n",
       " 101606,\n",
       " 101731,\n",
       " 101851,\n",
       " 101876,\n",
       " 102275,\n",
       " 102359,\n",
       " 102532,\n",
       " 102647,\n",
       " 102702,\n",
       " 102967,\n",
       " 103304,\n",
       " 103541,\n",
       " 104058,\n",
       " 104113,\n",
       " 104211,\n",
       " 104399,\n",
       " 104429,\n",
       " 104636,\n",
       " 104657,\n",
       " 104665,\n",
       " 105028,\n",
       " 105054,\n",
       " 105108,\n",
       " 105187,\n",
       " 105374,\n",
       " 105517,\n",
       " 105745,\n",
       " 105795,\n",
       " 105937,\n",
       " 105979,\n",
       " 106007,\n",
       " 106225,\n",
       " 106273,\n",
       " 106280,\n",
       " 106816,\n",
       " 106936,\n",
       " 106988,\n",
       " 107021,\n",
       " 107244,\n",
       " 107301,\n",
       " 107453,\n",
       " 107645,\n",
       " 107784,\n",
       " 107951,\n",
       " 108005,\n",
       " 108155,\n",
       " 108285,\n",
       " 108352,\n",
       " 108405,\n",
       " 108752,\n",
       " 108773,\n",
       " 108799,\n",
       " 109461,\n",
       " 109574,\n",
       " 109783,\n",
       " 109901,\n",
       " 109955,\n",
       " 110029,\n",
       " 110076,\n",
       " 110214,\n",
       " 110267,\n",
       " 110373,\n",
       " 110440,\n",
       " 110483,\n",
       " 110746,\n",
       " 110912,\n",
       " 110934,\n",
       " 110973,\n",
       " 111174,\n",
       " 111578,\n",
       " 111847,\n",
       " 111947,\n",
       " 112001,\n",
       " 112026,\n",
       " 112083,\n",
       " 112541,\n",
       " 112765,\n",
       " 112881,\n",
       " 112914,\n",
       " 113270,\n",
       " 113334,\n",
       " 113467,\n",
       " 113519,\n",
       " 113817,\n",
       " 113904,\n",
       " 113955,\n",
       " 113983,\n",
       " 114178,\n",
       " 114216,\n",
       " 114368,\n",
       " 114414,\n",
       " 114444,\n",
       " 114446,\n",
       " 114544,\n",
       " 114865,\n",
       " 114868,\n",
       " 114988,\n",
       " 115002,\n",
       " 115003,\n",
       " 115120,\n",
       " 115234,\n",
       " 115435,\n",
       " 115490,\n",
       " 115537,\n",
       " 115692,\n",
       " 116122,\n",
       " 116210,\n",
       " 116599,\n",
       " 116866,\n",
       " 116931,\n",
       " 117111,\n",
       " 117251,\n",
       " 117384,\n",
       " 117539,\n",
       " 117594,\n",
       " 118275,\n",
       " 118434,\n",
       " 118533,\n",
       " 119248,\n",
       " 119364,\n",
       " 119369,\n",
       " 119575,\n",
       " 119749,\n",
       " 119858,\n",
       " 120090,\n",
       " 120093,\n",
       " 120548,\n",
       " 120565,\n",
       " 120598,\n",
       " 120908,\n",
       " 121170,\n",
       " 121251,\n",
       " 121606,\n",
       " 121726,\n",
       " 122429,\n",
       " 122716,\n",
       " 122793,\n",
       " 122881,\n",
       " 123056,\n",
       " 123094,\n",
       " 123095,\n",
       " 123430,\n",
       " 123460,\n",
       " 123597,\n",
       " 123608,\n",
       " 123625,\n",
       " 123790,\n",
       " 123883,\n",
       " 123981,\n",
       " 124078,\n",
       " 124079,\n",
       " 124310,\n",
       " 124363,\n",
       " 124487,\n",
       " 124489,\n",
       " 124597,\n",
       " 124688,\n",
       " 124942,\n",
       " 125039,\n",
       " 125203,\n",
       " 125287,\n",
       " 125411,\n",
       " 125519,\n",
       " 125692,\n",
       " 125774,\n",
       " 126296,\n",
       " 126492,\n",
       " 126604,\n",
       " 126693,\n",
       " 126697,\n",
       " 126736,\n",
       " 127129,\n",
       " 127200,\n",
       " 127233,\n",
       " 127359,\n",
       " 127429,\n",
       " 127826,\n",
       " 127914,\n",
       " 128085,\n",
       " 128208,\n",
       " 128696,\n",
       " 128835,\n",
       " 129008,\n",
       " 129074,\n",
       " 129084,\n",
       " 129358,\n",
       " 129465,\n",
       " 129503,\n",
       " 129563,\n",
       " 129716,\n",
       " 129851,\n",
       " 130426,\n",
       " 130438,\n",
       " 130474,\n",
       " 130554,\n",
       " 130570,\n",
       " 130571,\n",
       " 130847,\n",
       " 131027,\n",
       " 131046,\n",
       " 131099,\n",
       " 131126,\n",
       " 131402,\n",
       " 131594,\n",
       " 131675,\n",
       " 131837,\n",
       " 131855,\n",
       " 132083,\n",
       " 132173,\n",
       " 132375,\n",
       " 132492,\n",
       " 132544,\n",
       " 132663,\n",
       " 132836,\n",
       " 133296,\n",
       " 133416,\n",
       " 133567,\n",
       " 133571,\n",
       " 133689,\n",
       " 133747,\n",
       " 133868,\n",
       " 134247,\n",
       " 134434,\n",
       " 134797,\n",
       " 134837,\n",
       " 134869,\n",
       " 135045,\n",
       " 135149,\n",
       " 135265,\n",
       " 135360,\n",
       " 135458,\n",
       " 135703,\n",
       " 135831,\n",
       " 136010,\n",
       " 136139,\n",
       " 136205,\n",
       " 136252,\n",
       " 136348,\n",
       " 136382,\n",
       " 136473,\n",
       " 136509,\n",
       " 137190,\n",
       " 137336,\n",
       " 137397,\n",
       " 137589,\n",
       " 137688,\n",
       " 138010,\n",
       " 138073,\n",
       " 138097,\n",
       " 138198,\n",
       " 138441,\n",
       " 138543,\n",
       " 138578,\n",
       " 138602,\n",
       " 138844,\n",
       " 138883,\n",
       " 138995,\n",
       " 139141,\n",
       " 139387,\n",
       " 139467,\n",
       " 139742,\n",
       " 139913,\n",
       " 140000,\n",
       " 140036,\n",
       " 140069,\n",
       " 140358,\n",
       " 140826,\n",
       " 140879,\n",
       " 141210,\n",
       " 141444,\n",
       " 141491,\n",
       " 141493,\n",
       " 141710,\n",
       " 141819,\n",
       " 141901,\n",
       " 141902,\n",
       " 141958,\n",
       " 142093,\n",
       " 142121,\n",
       " 142202,\n",
       " 142256,\n",
       " 142454,\n",
       " 142524,\n",
       " 143163,\n",
       " 143175,\n",
       " 143211,\n",
       " 143253,\n",
       " 143415,\n",
       " 143792,\n",
       " 143909,\n",
       " 143968,\n",
       " 144131,\n",
       " 144194,\n",
       " 144255,\n",
       " 144531,\n",
       " 144555,\n",
       " 144910,\n",
       " 145165,\n",
       " 145369,\n",
       " 145431,\n",
       " 145449,\n",
       " 145451,\n",
       " 145619,\n",
       " 145641,\n",
       " 146113,\n",
       " 146175,\n",
       " 146230,\n",
       " 146348,\n",
       " 146564,\n",
       " 146803,\n",
       " 147141,\n",
       " 147166,\n",
       " 147224,\n",
       " 147451,\n",
       " 147686,\n",
       " 147803,\n",
       " 147847,\n",
       " 147965,\n",
       " 148199,\n",
       " 148258,\n",
       " 148712,\n",
       " 148744,\n",
       " 148798,\n",
       " 148898,\n",
       " 148966,\n",
       " 149069,\n",
       " 149084,\n",
       " 149690,\n",
       " 149907,\n",
       " 149908,\n",
       " 149934,\n",
       " 150124,\n",
       " 150498,\n",
       " 150561,\n",
       " 150896,\n",
       " 150968,\n",
       " 150979,\n",
       " 151098,\n",
       " 151107,\n",
       " 151503,\n",
       " 151589,\n",
       " 151608,\n",
       " 151702,\n",
       " 151790,\n",
       " 151806,\n",
       " 152186,\n",
       " ...]"
      ]
     },
     "execution_count": 50,
     "metadata": {},
     "output_type": "execute_result"
    }
   ],
   "source": [
    "users = df1.user_id.unique()\n",
    "users = sorted(np.array(users).tolist())\n",
    "users"
   ]
  },
  {
   "cell_type": "code",
   "execution_count": 53,
   "metadata": {},
   "outputs": [
    {
     "name": "stdout",
     "output_type": "stream",
     "text": [
      "+---------+------------+---------------------+------+\n",
      "| user_id |    isbn    |        score        | rank |\n",
      "+---------+------------+---------------------+------+\n",
      "|   183   | 220333228X | 0.06718286235680741 |  1   |\n",
      "|   183   | 810981521  | 0.06718286235680741 |  2   |\n",
      "|   183   | 2203332328 | 0.06718286235680741 |  3   |\n",
      "|   183   | 316358479  | 0.06718286235680741 |  4   |\n",
      "|   183   | 1561632244 | 0.06718286235680741 |  5   |\n",
      "|   183   | 316358452  | 0.06718286235680741 |  6   |\n",
      "|   183   | 752866052  | 0.06718286235680741 |  7   |\n",
      "|   183   | 1593370083 |         0.0         |  8   |\n",
      "|   183   | 373218036  |         0.0         |  9   |\n",
      "|   183   | 441693237  |         0.0         |  10  |\n",
      "|   254   | 375803483  | 0.06036671939885841 |  1   |\n",
      "|   254   | 3499129175 | 0.05913421089919108 |  2   |\n",
      "|   254   | 970335520  | 0.05913421089919108 |  3   |\n",
      "|   254   | 842384103  | 0.05688017438042839 |  4   |\n",
      "|   254   | 185697829X | 0.05688017438042839 |  5   |\n",
      "|   254   | 753450364  | 0.05688017438042839 |  6   |\n",
      "|   254   | 916441237  | 0.05688017438042839 |  7   |\n",
      "|   254   | 590434969  | 0.05688017438042839 |  8   |\n",
      "|   254   | 809448696  | 0.05688017438042839 |  9   |\n",
      "|   254   | 945564449  | 0.05688017438042839 |  10  |\n",
      "|   507   | 425144305  | 0.11648734684648185 |  1   |\n",
      "|   507   | 812535197  | 0.11648734684648185 |  2   |\n",
      "|   507   | 312953607  | 0.10977799453954587 |  3   |\n",
      "|   507   | 9176438635 | 0.10977799453954587 |  4   |\n",
      "|   507   | 2266082272 | 0.10977799453954587 |  5   |\n",
      "|   507   | 671853686  | 0.10977799453954587 |  6   |\n",
      "|   507   | 3499129175 | 0.10977799453954587 |  7   |\n",
      "|   507   | 2070361551 | 0.10977799453954587 |  8   |\n",
      "|   507   | 2253004219 | 0.10977799453954587 |  9   |\n",
      "|   507   | 848711696  | 0.10977799453954587 |  10  |\n",
      "|   882   | 912365307  | 0.09784532541578467 |  1   |\n",
      "|   882   | 380789353  | 0.08209359374913303 |  2   |\n",
      "|   882   | 373834586  | 0.08209359374913303 |  3   |\n",
      "|   882   | 399137149  | 0.08209359374913303 |  4   |\n",
      "|   882   | 1551668807 | 0.08201611042022705 |  5   |\n",
      "|   882   | 345384229  | 0.08035304194146936 |  6   |\n",
      "|   882   | 551014180  | 0.08035304194146936 |  7   |\n",
      "|   882   | 771008198  | 0.08035304194146936 |  8   |\n",
      "|   882   | 525943013  | 0.08035304194146936 |  9   |\n",
      "|   882   | 863698719  | 0.08035304194146936 |  10  |\n",
      "|   1424  | 1883831105 |  0.1323236121850855 |  1   |\n",
      "|   1424  | 233978275  | 0.12885965669856353 |  2   |\n",
      "|   1424  | 140088032  | 0.12885965669856353 |  3   |\n",
      "|   1424  | 3035000085 | 0.09560482291614308 |  4   |\n",
      "|   1424  | 679310746  | 0.09560482291614308 |  5   |\n",
      "|   1424  | 1582340277 | 0.09560482291614308 |  6   |\n",
      "|   1424  | 143002589  | 0.09560482291614308 |  7   |\n",
      "|   1424  | 553276484  | 0.09560482291614308 |  8   |\n",
      "|   1424  |  60911395  | 0.09560482291614308 |  9   |\n",
      "|   1424  | 8838914737 | 0.09560482291614308 |  10  |\n",
      "+---------+------------+---------------------+------+\n",
      "[50 rows x 4 columns]\n",
      "\n"
     ]
    }
   ],
   "source": [
    "#Making recommendations\n",
    "item_sim_recomm = item_sim_model.recommend(users=[183, 254, 507, 882, 1424], k=10)\n",
    "item_sim_recomm.print_rows(num_rows=50)"
   ]
  },
  {
   "cell_type": "code",
   "execution_count": 32,
   "metadata": {},
   "outputs": [],
   "source": [
    "class MF():\n",
    "\n",
    "    # Initializing the user-movie rating matrix, no. of latent features, alpha and beta.\n",
    "    def __init__(self, R, K, alpha, beta, iterations):\n",
    "        self.R = R\n",
    "        self.num_users, self.num_items = R.shape\n",
    "        self.K = K\n",
    "        self.alpha = alpha\n",
    "        self.beta = beta\n",
    "        self.iterations = iterations\n",
    "\n",
    "    # Initializing user-feature and movie-feature matrix \n",
    "    def train(self):\n",
    "        self.P = np.random.normal(scale=1./self.K, size=(self.num_users, self.K))\n",
    "        self.Q = np.random.normal(scale=1./self.K, size=(self.num_items, self.K))\n",
    "\n",
    "        # Initializing the bias terms\n",
    "        self.b_u = np.zeros(self.num_users)\n",
    "        self.b_i = np.zeros(self.num_items)\n",
    "        self.b = np.mean(self.R[np.where(self.R != 0)])\n",
    "\n",
    "        # List of training samples\n",
    "        self.samples = [\n",
    "        (i, j, self.R[i, j])\n",
    "        for i in range(self.num_users)\n",
    "        for j in range(self.num_items)\n",
    "        if self.R[i, j] > 0\n",
    "        ]\n",
    "\n",
    "        # Stochastic gradient descent for given number of iterations\n",
    "        training_process = []\n",
    "        for i in range(self.iterations):\n",
    "            np.random.shuffle(self.samples)\n",
    "            self.sgd()\n",
    "            mse = self.mse()\n",
    "            training_process.append((i, mse))\n",
    "        if (i+1) % 20 == 0:\n",
    "            print(\"Iteration: %d ; error = %.4f\" % (i+1, mse))\n",
    "\n",
    "        return training_process\n",
    "\n",
    "    # Computing total mean squared error\n",
    "    def mse(self):\n",
    "        xs, ys = self.R.nonzero()\n",
    "        predicted = self.full_matrix()\n",
    "        error = 0\n",
    "        for x, y in zip(xs, ys):\n",
    "            error += pow(self.R[x, y] - predicted[x, y], 2)\n",
    "        return np.sqrt(error)\n",
    "\n",
    "    # Stochastic gradient descent to get optimized P and Q matrix\n",
    "    def sgd(self):\n",
    "        for i, j, r in self.samples:\n",
    "            prediction = self.get_rating(i, j)\n",
    "            e = (r - prediction)\n",
    "\n",
    "            self.b_u[i] += self.alpha * (e - self.beta * self.b_u[i])\n",
    "            self.b_i[j] += self.alpha * (e - self.beta * self.b_i[j])\n",
    "\n",
    "            self.P[i, :] += self.alpha * (e * self.Q[j, :] - self.beta * self.P[i,:])\n",
    "            self.Q[j, :] += self.alpha * (e * self.P[i, :] - self.beta * self.Q[j,:])\n",
    "\n",
    "    # Ratings for user i and moive j\n",
    "    def get_rating(self, i, j):\n",
    "        prediction = self.b + self.b_u[i] + self.b_i[j] + self.P[i, :].dot(self.Q[j, :].T)\n",
    "        return prediction\n",
    "\n",
    "    # Full user-movie rating matrix\n",
    "    def full_matrix(self):\n",
    "        return mf.b + mf.b_u[:,np.newaxis] + mf.b_i[np.newaxis:,] + mf.P.dot(mf.Q.T)"
   ]
  },
  {
   "cell_type": "code",
   "execution_count": 33,
   "metadata": {
    "collapsed": true
   },
   "outputs": [
    {
     "ename": "ValueError",
     "evalue": "Index contains duplicate entries, cannot reshape",
     "output_type": "error",
     "traceback": [
      "\u001b[0;31m---------------------------------------------------------------------------\u001b[0m",
      "\u001b[0;31mValueError\u001b[0m                                Traceback (most recent call last)",
      "\u001b[0;32m<ipython-input-33-d3d9fc7551ad>\u001b[0m in \u001b[0;36m<module>\u001b[0;34m\u001b[0m\n\u001b[0;32m----> 1\u001b[0;31m \u001b[0mR\u001b[0m \u001b[0;34m=\u001b[0m \u001b[0mnp\u001b[0m\u001b[0;34m.\u001b[0m\u001b[0marray\u001b[0m\u001b[0;34m(\u001b[0m\u001b[0mratings_test\u001b[0m\u001b[0;34m.\u001b[0m\u001b[0mpivot\u001b[0m\u001b[0;34m(\u001b[0m\u001b[0mindex\u001b[0m \u001b[0;34m=\u001b[0m \u001b[0;34m'isbn'\u001b[0m\u001b[0;34m,\u001b[0m \u001b[0mcolumns\u001b[0m \u001b[0;34m=\u001b[0m \u001b[0;34m'user_id'\u001b[0m\u001b[0;34m,\u001b[0m \u001b[0mvalues\u001b[0m \u001b[0;34m=\u001b[0m \u001b[0;34m'rating'\u001b[0m\u001b[0;34m)\u001b[0m\u001b[0;34m.\u001b[0m\u001b[0mfillna\u001b[0m\u001b[0;34m(\u001b[0m\u001b[0;36m0\u001b[0m\u001b[0;34m)\u001b[0m\u001b[0;34m)\u001b[0m\u001b[0;34m\u001b[0m\u001b[0;34m\u001b[0m\u001b[0m\n\u001b[0m",
      "\u001b[0;32m~/my_project_dir/my_project_env/lib/python3.6/site-packages/pandas/core/frame.py\u001b[0m in \u001b[0;36mpivot\u001b[0;34m(self, index, columns, values)\u001b[0m\n\u001b[1;32m   5626\u001b[0m     \u001b[0;32mdef\u001b[0m \u001b[0mpivot\u001b[0m\u001b[0;34m(\u001b[0m\u001b[0mself\u001b[0m\u001b[0;34m,\u001b[0m \u001b[0mindex\u001b[0m\u001b[0;34m=\u001b[0m\u001b[0;32mNone\u001b[0m\u001b[0;34m,\u001b[0m \u001b[0mcolumns\u001b[0m\u001b[0;34m=\u001b[0m\u001b[0;32mNone\u001b[0m\u001b[0;34m,\u001b[0m \u001b[0mvalues\u001b[0m\u001b[0;34m=\u001b[0m\u001b[0;32mNone\u001b[0m\u001b[0;34m)\u001b[0m\u001b[0;34m:\u001b[0m\u001b[0;34m\u001b[0m\u001b[0;34m\u001b[0m\u001b[0m\n\u001b[1;32m   5627\u001b[0m         \u001b[0;32mfrom\u001b[0m \u001b[0mpandas\u001b[0m\u001b[0;34m.\u001b[0m\u001b[0mcore\u001b[0m\u001b[0;34m.\u001b[0m\u001b[0mreshape\u001b[0m\u001b[0;34m.\u001b[0m\u001b[0mpivot\u001b[0m \u001b[0;32mimport\u001b[0m \u001b[0mpivot\u001b[0m\u001b[0;34m\u001b[0m\u001b[0;34m\u001b[0m\u001b[0m\n\u001b[0;32m-> 5628\u001b[0;31m         \u001b[0;32mreturn\u001b[0m \u001b[0mpivot\u001b[0m\u001b[0;34m(\u001b[0m\u001b[0mself\u001b[0m\u001b[0;34m,\u001b[0m \u001b[0mindex\u001b[0m\u001b[0;34m=\u001b[0m\u001b[0mindex\u001b[0m\u001b[0;34m,\u001b[0m \u001b[0mcolumns\u001b[0m\u001b[0;34m=\u001b[0m\u001b[0mcolumns\u001b[0m\u001b[0;34m,\u001b[0m \u001b[0mvalues\u001b[0m\u001b[0;34m=\u001b[0m\u001b[0mvalues\u001b[0m\u001b[0;34m)\u001b[0m\u001b[0;34m\u001b[0m\u001b[0;34m\u001b[0m\u001b[0m\n\u001b[0m\u001b[1;32m   5629\u001b[0m \u001b[0;34m\u001b[0m\u001b[0m\n\u001b[1;32m   5630\u001b[0m     _shared_docs['pivot_table'] = \"\"\"\n",
      "\u001b[0;32m~/my_project_dir/my_project_env/lib/python3.6/site-packages/pandas/core/reshape/pivot.py\u001b[0m in \u001b[0;36mpivot\u001b[0;34m(data, index, columns, values)\u001b[0m\n\u001b[1;32m    386\u001b[0m             indexed = data._constructor_sliced(data[values].values,\n\u001b[1;32m    387\u001b[0m                                                index=index)\n\u001b[0;32m--> 388\u001b[0;31m     \u001b[0;32mreturn\u001b[0m \u001b[0mindexed\u001b[0m\u001b[0;34m.\u001b[0m\u001b[0munstack\u001b[0m\u001b[0;34m(\u001b[0m\u001b[0mcolumns\u001b[0m\u001b[0;34m)\u001b[0m\u001b[0;34m\u001b[0m\u001b[0;34m\u001b[0m\u001b[0m\n\u001b[0m\u001b[1;32m    389\u001b[0m \u001b[0;34m\u001b[0m\u001b[0m\n\u001b[1;32m    390\u001b[0m \u001b[0;34m\u001b[0m\u001b[0m\n",
      "\u001b[0;32m~/my_project_dir/my_project_env/lib/python3.6/site-packages/pandas/core/series.py\u001b[0m in \u001b[0;36munstack\u001b[0;34m(self, level, fill_value)\u001b[0m\n\u001b[1;32m   3299\u001b[0m         \"\"\"\n\u001b[1;32m   3300\u001b[0m         \u001b[0;32mfrom\u001b[0m \u001b[0mpandas\u001b[0m\u001b[0;34m.\u001b[0m\u001b[0mcore\u001b[0m\u001b[0;34m.\u001b[0m\u001b[0mreshape\u001b[0m\u001b[0;34m.\u001b[0m\u001b[0mreshape\u001b[0m \u001b[0;32mimport\u001b[0m \u001b[0munstack\u001b[0m\u001b[0;34m\u001b[0m\u001b[0;34m\u001b[0m\u001b[0m\n\u001b[0;32m-> 3301\u001b[0;31m         \u001b[0;32mreturn\u001b[0m \u001b[0munstack\u001b[0m\u001b[0;34m(\u001b[0m\u001b[0mself\u001b[0m\u001b[0;34m,\u001b[0m \u001b[0mlevel\u001b[0m\u001b[0;34m,\u001b[0m \u001b[0mfill_value\u001b[0m\u001b[0;34m)\u001b[0m\u001b[0;34m\u001b[0m\u001b[0;34m\u001b[0m\u001b[0m\n\u001b[0m\u001b[1;32m   3302\u001b[0m \u001b[0;34m\u001b[0m\u001b[0m\n\u001b[1;32m   3303\u001b[0m     \u001b[0;31m# ----------------------------------------------------------------------\u001b[0m\u001b[0;34m\u001b[0m\u001b[0;34m\u001b[0m\u001b[0;34m\u001b[0m\u001b[0m\n",
      "\u001b[0;32m~/my_project_dir/my_project_env/lib/python3.6/site-packages/pandas/core/reshape/reshape.py\u001b[0m in \u001b[0;36munstack\u001b[0;34m(obj, level, fill_value)\u001b[0m\n\u001b[1;32m    394\u001b[0m         unstacker = _Unstacker(obj.values, obj.index, level=level,\n\u001b[1;32m    395\u001b[0m                                \u001b[0mfill_value\u001b[0m\u001b[0;34m=\u001b[0m\u001b[0mfill_value\u001b[0m\u001b[0;34m,\u001b[0m\u001b[0;34m\u001b[0m\u001b[0;34m\u001b[0m\u001b[0m\n\u001b[0;32m--> 396\u001b[0;31m                                constructor=obj._constructor_expanddim)\n\u001b[0m\u001b[1;32m    397\u001b[0m         \u001b[0;32mreturn\u001b[0m \u001b[0munstacker\u001b[0m\u001b[0;34m.\u001b[0m\u001b[0mget_result\u001b[0m\u001b[0;34m(\u001b[0m\u001b[0;34m)\u001b[0m\u001b[0;34m\u001b[0m\u001b[0;34m\u001b[0m\u001b[0m\n\u001b[1;32m    398\u001b[0m \u001b[0;34m\u001b[0m\u001b[0m\n",
      "\u001b[0;32m~/my_project_dir/my_project_env/lib/python3.6/site-packages/pandas/core/reshape/reshape.py\u001b[0m in \u001b[0;36m__init__\u001b[0;34m(self, values, index, level, value_columns, fill_value, constructor)\u001b[0m\n\u001b[1;32m    126\u001b[0m \u001b[0;34m\u001b[0m\u001b[0m\n\u001b[1;32m    127\u001b[0m         \u001b[0mself\u001b[0m\u001b[0;34m.\u001b[0m\u001b[0m_make_sorted_values_labels\u001b[0m\u001b[0;34m(\u001b[0m\u001b[0;34m)\u001b[0m\u001b[0;34m\u001b[0m\u001b[0;34m\u001b[0m\u001b[0m\n\u001b[0;32m--> 128\u001b[0;31m         \u001b[0mself\u001b[0m\u001b[0;34m.\u001b[0m\u001b[0m_make_selectors\u001b[0m\u001b[0;34m(\u001b[0m\u001b[0;34m)\u001b[0m\u001b[0;34m\u001b[0m\u001b[0;34m\u001b[0m\u001b[0m\n\u001b[0m\u001b[1;32m    129\u001b[0m \u001b[0;34m\u001b[0m\u001b[0m\n\u001b[1;32m    130\u001b[0m     \u001b[0;32mdef\u001b[0m \u001b[0m_make_sorted_values_labels\u001b[0m\u001b[0;34m(\u001b[0m\u001b[0mself\u001b[0m\u001b[0;34m)\u001b[0m\u001b[0;34m:\u001b[0m\u001b[0;34m\u001b[0m\u001b[0;34m\u001b[0m\u001b[0m\n",
      "\u001b[0;32m~/my_project_dir/my_project_env/lib/python3.6/site-packages/pandas/core/reshape/reshape.py\u001b[0m in \u001b[0;36m_make_selectors\u001b[0;34m(self)\u001b[0m\n\u001b[1;32m    164\u001b[0m \u001b[0;34m\u001b[0m\u001b[0m\n\u001b[1;32m    165\u001b[0m         \u001b[0;32mif\u001b[0m \u001b[0mmask\u001b[0m\u001b[0;34m.\u001b[0m\u001b[0msum\u001b[0m\u001b[0;34m(\u001b[0m\u001b[0;34m)\u001b[0m \u001b[0;34m<\u001b[0m \u001b[0mlen\u001b[0m\u001b[0;34m(\u001b[0m\u001b[0mself\u001b[0m\u001b[0;34m.\u001b[0m\u001b[0mindex\u001b[0m\u001b[0;34m)\u001b[0m\u001b[0;34m:\u001b[0m\u001b[0;34m\u001b[0m\u001b[0;34m\u001b[0m\u001b[0m\n\u001b[0;32m--> 166\u001b[0;31m             raise ValueError('Index contains duplicate entries, '\n\u001b[0m\u001b[1;32m    167\u001b[0m                              'cannot reshape')\n\u001b[1;32m    168\u001b[0m \u001b[0;34m\u001b[0m\u001b[0m\n",
      "\u001b[0;31mValueError\u001b[0m: Index contains duplicate entries, cannot reshape"
     ]
    }
   ],
   "source": [
    "R = np.array(ratings_test.pivot(index = 'isbn', columns = 'user_id', values = 'rating').fillna(0))"
   ]
  },
  {
   "cell_type": "code",
   "execution_count": 34,
   "metadata": {
    "collapsed": true
   },
   "outputs": [
    {
     "ename": "NameError",
     "evalue": "name 'R' is not defined",
     "output_type": "error",
     "traceback": [
      "\u001b[0;31m---------------------------------------------------------------------------\u001b[0m",
      "\u001b[0;31mNameError\u001b[0m                                 Traceback (most recent call last)",
      "\u001b[0;32m<ipython-input-34-b7d710620880>\u001b[0m in \u001b[0;36m<module>\u001b[0;34m\u001b[0m\n\u001b[0;32m----> 1\u001b[0;31m \u001b[0mmf\u001b[0m \u001b[0;34m=\u001b[0m \u001b[0mMF\u001b[0m\u001b[0;34m(\u001b[0m\u001b[0mR\u001b[0m\u001b[0;34m,\u001b[0m \u001b[0mK\u001b[0m\u001b[0;34m=\u001b[0m\u001b[0;36m20\u001b[0m\u001b[0;34m,\u001b[0m \u001b[0malpha\u001b[0m\u001b[0;34m=\u001b[0m\u001b[0;36m0.001\u001b[0m\u001b[0;34m,\u001b[0m \u001b[0mbeta\u001b[0m\u001b[0;34m=\u001b[0m\u001b[0;36m0.01\u001b[0m\u001b[0;34m,\u001b[0m \u001b[0miterations\u001b[0m\u001b[0;34m=\u001b[0m\u001b[0;36m100\u001b[0m\u001b[0;34m)\u001b[0m\u001b[0;34m\u001b[0m\u001b[0;34m\u001b[0m\u001b[0m\n\u001b[0m\u001b[1;32m      2\u001b[0m \u001b[0mtraining_process\u001b[0m \u001b[0;34m=\u001b[0m \u001b[0mmf\u001b[0m\u001b[0;34m.\u001b[0m\u001b[0mtrain\u001b[0m\u001b[0;34m(\u001b[0m\u001b[0;34m)\u001b[0m\u001b[0;34m\u001b[0m\u001b[0;34m\u001b[0m\u001b[0m\n\u001b[1;32m      3\u001b[0m \u001b[0mprint\u001b[0m\u001b[0;34m(\u001b[0m\u001b[0;34m)\u001b[0m\u001b[0;34m\u001b[0m\u001b[0;34m\u001b[0m\u001b[0m\n\u001b[1;32m      4\u001b[0m \u001b[0mprint\u001b[0m\u001b[0;34m(\u001b[0m\u001b[0;34m\"P x Q:\"\u001b[0m\u001b[0;34m)\u001b[0m\u001b[0;34m\u001b[0m\u001b[0;34m\u001b[0m\u001b[0m\n\u001b[1;32m      5\u001b[0m \u001b[0mprint\u001b[0m\u001b[0;34m(\u001b[0m\u001b[0mmf\u001b[0m\u001b[0;34m.\u001b[0m\u001b[0mfull_matrix\u001b[0m\u001b[0;34m(\u001b[0m\u001b[0;34m)\u001b[0m\u001b[0;34m)\u001b[0m\u001b[0;34m\u001b[0m\u001b[0;34m\u001b[0m\u001b[0m\n",
      "\u001b[0;31mNameError\u001b[0m: name 'R' is not defined"
     ]
    }
   ],
   "source": [
    "mf = MF(R, K=20, alpha=0.001, beta=0.01, iterations=100)\n",
    "training_process = mf.train()\n",
    "print()\n",
    "print(\"P x Q:\")\n",
    "print(mf.full_matrix())\n",
    "print()"
   ]
  },
  {
   "cell_type": "code",
   "execution_count": null,
   "metadata": {},
   "outputs": [],
   "source": []
  }
 ],
 "metadata": {
  "kernelspec": {
   "display_name": "Python 3",
   "language": "python",
   "name": "python3"
  },
  "language_info": {
   "codemirror_mode": {
    "name": "ipython",
    "version": 3
   },
   "file_extension": ".py",
   "mimetype": "text/x-python",
   "name": "python",
   "nbconvert_exporter": "python",
   "pygments_lexer": "ipython3",
   "version": "3.6.8"
  }
 },
 "nbformat": 4,
 "nbformat_minor": 2
}
